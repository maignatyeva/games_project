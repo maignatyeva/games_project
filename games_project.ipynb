{
 "cells": [
  {
   "cell_type": "markdown",
   "id": "fe2e6a63-01fb-4f50-a061-ef0bc56d283b",
   "metadata": {},
   "source": [
    "# Исследование рынка компьютерных игр"
   ]
  },
  {
   "cell_type": "markdown",
   "id": "49e5cc4c-02b9-46e2-a090-6c4fed04140d",
   "metadata": {},
   "source": [
    "В рамках данного исследования наша задача состоит в анализе исторических данных о продажах компьютерных игр по всему миру. В нашем распоряжении информация о продажах, оценках пользователей и экспертов, а также о жанрах и платформах, для которых созданы игры. Данные представлены до 2016 года. Наша цель - выявить закономерности, которые могут определить успешность игры в 2017 году.\n",
    "\n",
    "Для выполнения цели составим план работ:\n",
    "1. Загрузка и предобработка данных\n",
    "2. Исследовательский анализ данных\n",
    "3. Составление портрета пользователя каждого региона\n",
    "4. Проверка гипотез\n",
    "\n",
    "Приступим к исследованию!"
   ]
  },
  {
   "cell_type": "markdown",
   "id": "c1e5616c-ac95-4223-beb7-29fecede520d",
   "metadata": {},
   "source": [
    "## Загрузка и предобработка данных"
   ]
  },
  {
   "cell_type": "markdown",
   "id": "c8448a79-4843-43be-bec9-6d12d3d60a99",
   "metadata": {},
   "source": [
    "### Загрузка данных"
   ]
  },
  {
   "cell_type": "markdown",
   "id": "6ef21b89-a205-465f-803a-d91cc37be560",
   "metadata": {},
   "source": [
    "Для начала импортируем нужные библиотеки."
   ]
  },
  {
   "cell_type": "code",
   "execution_count": 1,
   "id": "f1f641d9-bbba-4d6a-89b4-070c193595c6",
   "metadata": {},
   "outputs": [],
   "source": [
    "import pandas as pd\n",
    "import re\n",
    "import matplotlib.pyplot as plt\n",
    "import numpy as np\n",
    "from scipy import stats as st"
   ]
  },
  {
   "cell_type": "markdown",
   "id": "167fe038-f69c-424b-ba2d-c89c9aa2a021",
   "metadata": {},
   "source": [
    "Теперь загрузим данные в переменную `data` и изучим основную информацию о них."
   ]
  },
  {
   "cell_type": "code",
   "execution_count": 2,
   "id": "51dc6034-b9b6-47a3-89f3-39e190139ac8",
   "metadata": {},
   "outputs": [],
   "source": [
    "try:\n",
    "    data = pd.read_csv('/Users/macbook/practicum/projects/games_project/games.csv')\n",
    "except:\n",
    "    data = pd.read_csv('https://code.s3.yandex.net/datasets/games.csv')"
   ]
  },
  {
   "cell_type": "code",
   "execution_count": 3,
   "id": "abc1c9c1-34c2-4bd6-a38a-19db8a707ad7",
   "metadata": {},
   "outputs": [
    {
     "name": "stdout",
     "output_type": "stream",
     "text": [
      "<class 'pandas.core.frame.DataFrame'>\n",
      "RangeIndex: 16715 entries, 0 to 16714\n",
      "Data columns (total 11 columns):\n",
      " #   Column           Non-Null Count  Dtype  \n",
      "---  ------           --------------  -----  \n",
      " 0   Name             16713 non-null  object \n",
      " 1   Platform         16715 non-null  object \n",
      " 2   Year_of_Release  16446 non-null  float64\n",
      " 3   Genre            16713 non-null  object \n",
      " 4   NA_sales         16715 non-null  float64\n",
      " 5   EU_sales         16715 non-null  float64\n",
      " 6   JP_sales         16715 non-null  float64\n",
      " 7   Other_sales      16715 non-null  float64\n",
      " 8   Critic_Score     8137 non-null   float64\n",
      " 9   User_Score       10014 non-null  object \n",
      " 10  Rating           9949 non-null   object \n",
      "dtypes: float64(6), object(5)\n",
      "memory usage: 1.4+ MB\n"
     ]
    }
   ],
   "source": [
    "data.info()"
   ]
  },
  {
   "cell_type": "code",
   "execution_count": 4,
   "id": "ec8d33a4-f2b8-407b-aebe-ea1365c8f258",
   "metadata": {},
   "outputs": [
    {
     "data": {
      "text/html": [
       "<div>\n",
       "<style scoped>\n",
       "    .dataframe tbody tr th:only-of-type {\n",
       "        vertical-align: middle;\n",
       "    }\n",
       "\n",
       "    .dataframe tbody tr th {\n",
       "        vertical-align: top;\n",
       "    }\n",
       "\n",
       "    .dataframe thead th {\n",
       "        text-align: right;\n",
       "    }\n",
       "</style>\n",
       "<table border=\"1\" class=\"dataframe\">\n",
       "  <thead>\n",
       "    <tr style=\"text-align: right;\">\n",
       "      <th></th>\n",
       "      <th>Name</th>\n",
       "      <th>Platform</th>\n",
       "      <th>Year_of_Release</th>\n",
       "      <th>Genre</th>\n",
       "      <th>NA_sales</th>\n",
       "      <th>EU_sales</th>\n",
       "      <th>JP_sales</th>\n",
       "      <th>Other_sales</th>\n",
       "      <th>Critic_Score</th>\n",
       "      <th>User_Score</th>\n",
       "      <th>Rating</th>\n",
       "    </tr>\n",
       "  </thead>\n",
       "  <tbody>\n",
       "    <tr>\n",
       "      <th>15919</th>\n",
       "      <td>Oshiri Kajiri Mushi no Rhythm Lesson DS: Kawai...</td>\n",
       "      <td>DS</td>\n",
       "      <td>2008.0</td>\n",
       "      <td>Misc</td>\n",
       "      <td>0.00</td>\n",
       "      <td>0.00</td>\n",
       "      <td>0.02</td>\n",
       "      <td>0.00</td>\n",
       "      <td>NaN</td>\n",
       "      <td>NaN</td>\n",
       "      <td>NaN</td>\n",
       "    </tr>\n",
       "    <tr>\n",
       "      <th>1738</th>\n",
       "      <td>Destruction Derby 2</td>\n",
       "      <td>PS</td>\n",
       "      <td>1996.0</td>\n",
       "      <td>Racing</td>\n",
       "      <td>0.65</td>\n",
       "      <td>0.44</td>\n",
       "      <td>0.00</td>\n",
       "      <td>0.08</td>\n",
       "      <td>NaN</td>\n",
       "      <td>NaN</td>\n",
       "      <td>NaN</td>\n",
       "    </tr>\n",
       "    <tr>\n",
       "      <th>3689</th>\n",
       "      <td>Are You Smarter than a 5th Grader? Make the Grade</td>\n",
       "      <td>Wii</td>\n",
       "      <td>2008.0</td>\n",
       "      <td>Misc</td>\n",
       "      <td>0.50</td>\n",
       "      <td>0.00</td>\n",
       "      <td>0.00</td>\n",
       "      <td>0.04</td>\n",
       "      <td>NaN</td>\n",
       "      <td>tbd</td>\n",
       "      <td>E</td>\n",
       "    </tr>\n",
       "    <tr>\n",
       "      <th>15081</th>\n",
       "      <td>Wii de Asobu: Metroid Prime</td>\n",
       "      <td>Wii</td>\n",
       "      <td>NaN</td>\n",
       "      <td>Shooter</td>\n",
       "      <td>0.00</td>\n",
       "      <td>0.00</td>\n",
       "      <td>0.02</td>\n",
       "      <td>0.00</td>\n",
       "      <td>NaN</td>\n",
       "      <td>NaN</td>\n",
       "      <td>NaN</td>\n",
       "    </tr>\n",
       "    <tr>\n",
       "      <th>10587</th>\n",
       "      <td>Help Wanted: 50 Wacky Jobs</td>\n",
       "      <td>Wii</td>\n",
       "      <td>2008.0</td>\n",
       "      <td>Simulation</td>\n",
       "      <td>0.06</td>\n",
       "      <td>0.03</td>\n",
       "      <td>0.00</td>\n",
       "      <td>0.01</td>\n",
       "      <td>65.0</td>\n",
       "      <td>7</td>\n",
       "      <td>E10+</td>\n",
       "    </tr>\n",
       "    <tr>\n",
       "      <th>10902</th>\n",
       "      <td>Retro Game Challenge (US sales)</td>\n",
       "      <td>DS</td>\n",
       "      <td>2007.0</td>\n",
       "      <td>Action</td>\n",
       "      <td>0.09</td>\n",
       "      <td>0.00</td>\n",
       "      <td>0.00</td>\n",
       "      <td>0.00</td>\n",
       "      <td>NaN</td>\n",
       "      <td>NaN</td>\n",
       "      <td>NaN</td>\n",
       "    </tr>\n",
       "    <tr>\n",
       "      <th>3229</th>\n",
       "      <td>Madden NFL 07</td>\n",
       "      <td>GC</td>\n",
       "      <td>2006.0</td>\n",
       "      <td>Sports</td>\n",
       "      <td>0.48</td>\n",
       "      <td>0.13</td>\n",
       "      <td>0.00</td>\n",
       "      <td>0.02</td>\n",
       "      <td>82.0</td>\n",
       "      <td>9.2</td>\n",
       "      <td>E</td>\n",
       "    </tr>\n",
       "    <tr>\n",
       "      <th>14820</th>\n",
       "      <td>Bleach: Soul Carnival 2</td>\n",
       "      <td>PSP</td>\n",
       "      <td>2009.0</td>\n",
       "      <td>Fighting</td>\n",
       "      <td>0.00</td>\n",
       "      <td>0.00</td>\n",
       "      <td>0.03</td>\n",
       "      <td>0.00</td>\n",
       "      <td>NaN</td>\n",
       "      <td>NaN</td>\n",
       "      <td>NaN</td>\n",
       "    </tr>\n",
       "    <tr>\n",
       "      <th>8253</th>\n",
       "      <td>ESPN Final Round Golf 2002</td>\n",
       "      <td>GBA</td>\n",
       "      <td>2001.0</td>\n",
       "      <td>Sports</td>\n",
       "      <td>0.12</td>\n",
       "      <td>0.05</td>\n",
       "      <td>0.00</td>\n",
       "      <td>0.00</td>\n",
       "      <td>70.0</td>\n",
       "      <td>tbd</td>\n",
       "      <td>E</td>\n",
       "    </tr>\n",
       "    <tr>\n",
       "      <th>5542</th>\n",
       "      <td>Major League Baseball 2K6</td>\n",
       "      <td>XB</td>\n",
       "      <td>2006.0</td>\n",
       "      <td>Sports</td>\n",
       "      <td>0.24</td>\n",
       "      <td>0.07</td>\n",
       "      <td>0.00</td>\n",
       "      <td>0.01</td>\n",
       "      <td>71.0</td>\n",
       "      <td>5.7</td>\n",
       "      <td>E</td>\n",
       "    </tr>\n",
       "  </tbody>\n",
       "</table>\n",
       "</div>"
      ],
      "text/plain": [
       "                                                    Name Platform  \\\n",
       "15919  Oshiri Kajiri Mushi no Rhythm Lesson DS: Kawai...       DS   \n",
       "1738                                 Destruction Derby 2       PS   \n",
       "3689   Are You Smarter than a 5th Grader? Make the Grade      Wii   \n",
       "15081                        Wii de Asobu: Metroid Prime      Wii   \n",
       "10587                         Help Wanted: 50 Wacky Jobs      Wii   \n",
       "10902                    Retro Game Challenge (US sales)       DS   \n",
       "3229                                       Madden NFL 07       GC   \n",
       "14820                            Bleach: Soul Carnival 2      PSP   \n",
       "8253                          ESPN Final Round Golf 2002      GBA   \n",
       "5542                           Major League Baseball 2K6       XB   \n",
       "\n",
       "       Year_of_Release       Genre  NA_sales  EU_sales  JP_sales  Other_sales  \\\n",
       "15919           2008.0        Misc      0.00      0.00      0.02         0.00   \n",
       "1738            1996.0      Racing      0.65      0.44      0.00         0.08   \n",
       "3689            2008.0        Misc      0.50      0.00      0.00         0.04   \n",
       "15081              NaN     Shooter      0.00      0.00      0.02         0.00   \n",
       "10587           2008.0  Simulation      0.06      0.03      0.00         0.01   \n",
       "10902           2007.0      Action      0.09      0.00      0.00         0.00   \n",
       "3229            2006.0      Sports      0.48      0.13      0.00         0.02   \n",
       "14820           2009.0    Fighting      0.00      0.00      0.03         0.00   \n",
       "8253            2001.0      Sports      0.12      0.05      0.00         0.00   \n",
       "5542            2006.0      Sports      0.24      0.07      0.00         0.01   \n",
       "\n",
       "       Critic_Score User_Score Rating  \n",
       "15919           NaN        NaN    NaN  \n",
       "1738            NaN        NaN    NaN  \n",
       "3689            NaN        tbd      E  \n",
       "15081           NaN        NaN    NaN  \n",
       "10587          65.0          7   E10+  \n",
       "10902           NaN        NaN    NaN  \n",
       "3229           82.0        9.2      E  \n",
       "14820           NaN        NaN    NaN  \n",
       "8253           70.0        tbd      E  \n",
       "5542           71.0        5.7      E  "
      ]
     },
     "execution_count": 4,
     "metadata": {},
     "output_type": "execute_result"
    }
   ],
   "source": [
    "data.sample(10)"
   ]
  },
  {
   "cell_type": "code",
   "execution_count": 5,
   "id": "d50a83d8-3f38-4d82-b2f2-b31faa9acb9f",
   "metadata": {},
   "outputs": [
    {
     "data": {
      "text/plain": [
       "1980.0"
      ]
     },
     "execution_count": 5,
     "metadata": {},
     "output_type": "execute_result"
    }
   ],
   "source": [
    "data['Year_of_Release'].min()"
   ]
  },
  {
   "cell_type": "code",
   "execution_count": 6,
   "id": "e76d325c-2f83-4f17-aa12-e0d11a44e047",
   "metadata": {},
   "outputs": [
    {
     "data": {
      "text/plain": [
       "2016.0"
      ]
     },
     "execution_count": 6,
     "metadata": {},
     "output_type": "execute_result"
    }
   ],
   "source": [
    "data['Year_of_Release'].max()"
   ]
  },
  {
   "cell_type": "markdown",
   "id": "105ac63b-8ac1-4e68-b8b0-7661f3f41190",
   "metadata": {},
   "source": [
    "Датафрейм содержит информацию о более чем 16 тысячах игр, выпущенных за период с 1980 по 2016 год. При этом мы знаем, что данные за 2016 год могут быть неполными.\n",
    "\n",
    "Количество ненулевых значений в столбцах различается - значит, в данных присутствуют пропуски. Изучим их в ходе предобработки данных.\n",
    "\n",
    "Согласно документации к данным столбцы содержат следующую информацию:\n",
    "\n",
    "* `Name` — название игры\n",
    "* `Platform` — платформа\n",
    "* `Year_of_Release` — год выпуска\n",
    "* `Genre` — жанр игры\n",
    "* `NA_sales` — продажи в Северной Америке (миллионы проданных копий)\n",
    "* `EU_sales` — продажи в Европе (миллионы проданных копий)\n",
    "* `JP_sales` — продажи в Японии (миллионы проданных копий)\n",
    "* `Other_sales` — продажи в других странах (миллионы проданных копий)\n",
    "* `Critic_Score` — оценка критиков (максимум 100)\n",
    "* `User_Score` — оценка пользователей (максимум 10)\n",
    "* `Rating` — рейтинг от организации ESRB (англ. Entertainment Software Rating Board). Эта ассоциация определяет рейтинг компьютерных игр и присваивает им подходящую возрастную категорию"
   ]
  },
  {
   "cell_type": "markdown",
   "id": "67dc7e10-0e7f-425c-ad3c-3a83f48bc368",
   "metadata": {},
   "source": [
    "[ESRB](https://www.esrb.org/ratings-guide/) выделяет следующие возрастные рейтинги:\n",
    "* EC (Early childhood) — Для детей младшего возраста\n",
    "\n",
    "Игра подходит для детей от 3 лет и не содержит материалов, которые родители могли бы счесть неподходящими. Продукты, получившие данный рейтинг, изначально разрабатываются для детей и обычно представляют собой развивающие игры.\n",
    "\n",
    "* E (Everyone) - Для всех\n",
    "\n",
    "Содержание вполне подходит для всех возрастов. Такие игры могут понравиться и взрослым. Игры с этим рейтингом могут содержать минимальное насилие, в основном «мультяшного» характера. Первоначально обозначался как K-A (Kids to Adults).\n",
    "\n",
    "* E10+ (Everyone 10+) — Для всех от 10 лет и старше\n",
    "\n",
    "Проекты с данным рейтингом могут содержать больше мультипликационного или мягкого насилия, или несколько откровенные сцены, или минимальное количество крови.\n",
    "\n",
    "* T (Teen) -  Для подростков\n",
    "\n",
    "Игра подходит для лиц от 13 лет. Проекты из данной категории могут содержать насилие, непристойные сцены, грубый юмор, в меру откровенное сексуальное содержимое, кровь или нечастое использование ненормативной лексики.\n",
    "\n",
    "* M (Mature 17+) - Для взрослых\n",
    "\n",
    "Материалы игры не подходят для лиц младше 17 лет. Проекты с данным рейтингом могут содержать жестокое насилие, большое количество крови с расчленением, непристойные сексуальные сцены или грубую ненормативную лексику.\n",
    "\n",
    "* AO (Adults Only) - Только для взрослых\n",
    "\n",
    "Содержание игры только для взрослых старше 18 лет. Продукты из данной категории могут содержать длительные сцены жестокого насилия и/или очень откровенное сексуальное содержимое.\n",
    "\n",
    "* RP (Rating Pending) - Рейтинг ожидается\n",
    "\n",
    "Продукт был отправлен в ESRB и ожидает присвоения рейтинга. Данный \"рейтинг\" используется только на рекламных презентациях и в демо-версиях игр до официальной даты выпуска в продажу."
   ]
  },
  {
   "cell_type": "markdown",
   "id": "10492714-7f23-47f4-8792-c38176641993",
   "metadata": {},
   "source": [
    "### Предобработка данных"
   ]
  },
  {
   "cell_type": "markdown",
   "id": "1007e1f7-9528-4584-8293-454d3d08ef02",
   "metadata": {},
   "source": [
    "#### Переименование столбцов"
   ]
  },
  {
   "cell_type": "markdown",
   "id": "711ddc96-9cdd-4aa3-8e84-a5a894fc4269",
   "metadata": {},
   "source": [
    "Для удобства работы с данными приведем названия столбцов к нижнему регистру."
   ]
  },
  {
   "cell_type": "code",
   "execution_count": 7,
   "id": "6d4fce7d-bbf3-4200-ab0d-bf113c485eb8",
   "metadata": {},
   "outputs": [],
   "source": [
    "data.columns = data.columns.str.lower()"
   ]
  },
  {
   "cell_type": "markdown",
   "id": "8854ddba-9aaa-4466-9f27-8812cd95cb6f",
   "metadata": {},
   "source": [
    "Убедимся в том, что столбцы были успешно переименованы."
   ]
  },
  {
   "cell_type": "code",
   "execution_count": 8,
   "id": "8cebc014-5223-47f0-b983-f3576e1b5bcc",
   "metadata": {},
   "outputs": [
    {
     "data": {
      "text/plain": [
       "Index(['name', 'platform', 'year_of_release', 'genre', 'na_sales', 'eu_sales',\n",
       "       'jp_sales', 'other_sales', 'critic_score', 'user_score', 'rating'],\n",
       "      dtype='object')"
      ]
     },
     "execution_count": 8,
     "metadata": {},
     "output_type": "execute_result"
    }
   ],
   "source": [
    "data.columns"
   ]
  },
  {
   "cell_type": "markdown",
   "id": "2b2e2f52-ae54-46fe-b9b1-bba03418b723",
   "metadata": {
    "tags": []
   },
   "source": [
    "#### Изменение типов данных"
   ]
  },
  {
   "cell_type": "markdown",
   "id": "121aa9e2-e85b-4947-b7ef-7d07ae786fd6",
   "metadata": {},
   "source": [
    "Приведем данные к соотвествующему типу."
   ]
  },
  {
   "cell_type": "markdown",
   "id": "0db0c58e-bc76-4e50-a059-e1ea6251d13d",
   "metadata": {},
   "source": [
    "* тип данных в столбце `year_of_release` необходимо заменить на `int`, так как он содержит года, которые могут быть представлены только целыми числами:"
   ]
  },
  {
   "cell_type": "code",
   "execution_count": 9,
   "id": "32af7dcd-036b-45fc-a1e7-a09d4718ff76",
   "metadata": {},
   "outputs": [],
   "source": [
    "data['year_of_release'] = data['year_of_release'].astype('Int64')"
   ]
  },
  {
   "cell_type": "markdown",
   "id": "e053d92c-4d03-4d21-9df1-f6c8453d2053",
   "metadata": {},
   "source": [
    "Мы не приводим год выпуска к типу данных `datetime`, так как информация о дате выпуска игры неполная и содержит только год."
   ]
  },
  {
   "cell_type": "markdown",
   "id": "73e17305-e4e0-467f-bd85-a8c5f5a1dab4",
   "metadata": {},
   "source": [
    "* тип данных в столбце `user_score` необходимо заменить на `float`, так как он содержит вещественные значения от 0 до 10:"
   ]
  },
  {
   "cell_type": "code",
   "execution_count": 10,
   "id": "be2e53d1-7c92-4f6a-a263-99fb065eeb01",
   "metadata": {},
   "outputs": [],
   "source": [
    "data['user_score'] = pd.to_numeric(data['user_score'], errors='coerce')"
   ]
  },
  {
   "cell_type": "markdown",
   "id": "6f6f9c38-e2a3-4d14-a8ee-2f90f3108f75",
   "metadata": {},
   "source": [
    "Также на данном шаге мы заменили все ошибки в процессе приведения данных на пропущенные значения. Такой метод обработки ошибок был выбран, так как не вещественные значения содержали аббревиатуру `tbd`, которая означает to be determined. То есть на момент формирования датафрейма значения оценки пользователей еще не были известны для определенных игр."
   ]
  },
  {
   "cell_type": "markdown",
   "id": "aff71e27-76ee-4871-9c7d-f53d18bda25d",
   "metadata": {},
   "source": [
    "Проверим тип данных после применения изменений."
   ]
  },
  {
   "cell_type": "code",
   "execution_count": 11,
   "id": "ecb4fac6-fba3-4547-b562-73a91fd0dcb2",
   "metadata": {},
   "outputs": [
    {
     "name": "stdout",
     "output_type": "stream",
     "text": [
      "<class 'pandas.core.frame.DataFrame'>\n",
      "RangeIndex: 16715 entries, 0 to 16714\n",
      "Data columns (total 11 columns):\n",
      " #   Column           Non-Null Count  Dtype  \n",
      "---  ------           --------------  -----  \n",
      " 0   name             16713 non-null  object \n",
      " 1   platform         16715 non-null  object \n",
      " 2   year_of_release  16446 non-null  Int64  \n",
      " 3   genre            16713 non-null  object \n",
      " 4   na_sales         16715 non-null  float64\n",
      " 5   eu_sales         16715 non-null  float64\n",
      " 6   jp_sales         16715 non-null  float64\n",
      " 7   other_sales      16715 non-null  float64\n",
      " 8   critic_score     8137 non-null   float64\n",
      " 9   user_score       7590 non-null   float64\n",
      " 10  rating           9949 non-null   object \n",
      "dtypes: Int64(1), float64(6), object(4)\n",
      "memory usage: 1.4+ MB\n"
     ]
    }
   ],
   "source": [
    "data.info()"
   ]
  },
  {
   "cell_type": "markdown",
   "id": "331b8785-75be-453f-b5e2-bfbf2eed8ccd",
   "metadata": {},
   "source": [
    "#### Работа с пропусками"
   ]
  },
  {
   "cell_type": "markdown",
   "id": "a5ce3b71-6c6b-47af-90ee-1d419cd45c2e",
   "metadata": {},
   "source": [
    "Для начала определим, в каких столбцах есть пропуски и сколько их."
   ]
  },
  {
   "cell_type": "code",
   "execution_count": 12,
   "id": "ac55f3e4-0bdc-4274-bbf6-36bd47e40d7d",
   "metadata": {},
   "outputs": [
    {
     "data": {
      "text/plain": [
       "name                  2\n",
       "platform              0\n",
       "year_of_release     269\n",
       "genre                 2\n",
       "na_sales              0\n",
       "eu_sales              0\n",
       "jp_sales              0\n",
       "other_sales           0\n",
       "critic_score       8578\n",
       "user_score         9125\n",
       "rating             6766\n",
       "dtype: int64"
      ]
     },
     "execution_count": 12,
     "metadata": {},
     "output_type": "execute_result"
    }
   ],
   "source": [
    "data.isna().sum()"
   ]
  },
  {
   "cell_type": "markdown",
   "id": "2d829bf1-7c05-4e80-b99c-b95fccd878c9",
   "metadata": {},
   "source": [
    "* название игры и жанр:"
   ]
  },
  {
   "cell_type": "code",
   "execution_count": 13,
   "id": "ed326f6f-be46-4c1a-ad18-a4ca39dbac09",
   "metadata": {},
   "outputs": [
    {
     "data": {
      "text/html": [
       "<div>\n",
       "<style scoped>\n",
       "    .dataframe tbody tr th:only-of-type {\n",
       "        vertical-align: middle;\n",
       "    }\n",
       "\n",
       "    .dataframe tbody tr th {\n",
       "        vertical-align: top;\n",
       "    }\n",
       "\n",
       "    .dataframe thead th {\n",
       "        text-align: right;\n",
       "    }\n",
       "</style>\n",
       "<table border=\"1\" class=\"dataframe\">\n",
       "  <thead>\n",
       "    <tr style=\"text-align: right;\">\n",
       "      <th></th>\n",
       "      <th>name</th>\n",
       "      <th>platform</th>\n",
       "      <th>year_of_release</th>\n",
       "      <th>genre</th>\n",
       "      <th>na_sales</th>\n",
       "      <th>eu_sales</th>\n",
       "      <th>jp_sales</th>\n",
       "      <th>other_sales</th>\n",
       "      <th>critic_score</th>\n",
       "      <th>user_score</th>\n",
       "      <th>rating</th>\n",
       "    </tr>\n",
       "  </thead>\n",
       "  <tbody>\n",
       "    <tr>\n",
       "      <th>659</th>\n",
       "      <td>NaN</td>\n",
       "      <td>GEN</td>\n",
       "      <td>1993</td>\n",
       "      <td>NaN</td>\n",
       "      <td>1.78</td>\n",
       "      <td>0.53</td>\n",
       "      <td>0.00</td>\n",
       "      <td>0.08</td>\n",
       "      <td>NaN</td>\n",
       "      <td>NaN</td>\n",
       "      <td>NaN</td>\n",
       "    </tr>\n",
       "    <tr>\n",
       "      <th>14244</th>\n",
       "      <td>NaN</td>\n",
       "      <td>GEN</td>\n",
       "      <td>1993</td>\n",
       "      <td>NaN</td>\n",
       "      <td>0.00</td>\n",
       "      <td>0.00</td>\n",
       "      <td>0.03</td>\n",
       "      <td>0.00</td>\n",
       "      <td>NaN</td>\n",
       "      <td>NaN</td>\n",
       "      <td>NaN</td>\n",
       "    </tr>\n",
       "  </tbody>\n",
       "</table>\n",
       "</div>"
      ],
      "text/plain": [
       "      name platform  year_of_release genre  na_sales  eu_sales  jp_sales  \\\n",
       "659    NaN      GEN             1993   NaN      1.78      0.53      0.00   \n",
       "14244  NaN      GEN             1993   NaN      0.00      0.00      0.03   \n",
       "\n",
       "       other_sales  critic_score  user_score rating  \n",
       "659           0.08           NaN         NaN    NaN  \n",
       "14244         0.00           NaN         NaN    NaN  "
      ]
     },
     "execution_count": 13,
     "metadata": {},
     "output_type": "execute_result"
    }
   ],
   "source": [
    "data.query('name.isna()')"
   ]
  },
  {
   "cell_type": "markdown",
   "id": "7a73ef7d-ccf5-4cd0-ad50-a83e83707206",
   "metadata": {},
   "source": [
    "Пропуски в данных столбцах относятся к одним и тем же строкам. Причиной данных пропусков может быть техническая ошибка.\n",
    "\n",
    "Так как таких строк мало и для замены пропусков нет очевидной замены, исключим их из датафрейма."
   ]
  },
  {
   "cell_type": "code",
   "execution_count": 14,
   "id": "ffd190c7-6d46-4b05-aadb-ab205057ea89",
   "metadata": {},
   "outputs": [],
   "source": [
    "data = data.query('name.notna()')"
   ]
  },
  {
   "cell_type": "markdown",
   "id": "e11aa50f-ec82-4f9f-b157-df60fe83e912",
   "metadata": {},
   "source": [
    "* год выпуска:\n",
    "\n",
    "Пропусков в годах выпуска немного. Скорее всего, они вызваны человеческим фактором.\n",
    "\n",
    "Некоторые игры имеют год выпуска в своих названиях. Мы можем вычленить эти года из названий и заполнить пропуски в соответствующем столбце. При этом проведем проверку, что полученный год находится между 1980 и 2016 годами, чтобы исключить аномалии из-за игр с историческими датами в названии (например, Метро 2033)."
   ]
  },
  {
   "cell_type": "code",
   "execution_count": 15,
   "id": "e201a9ba-f59b-4a5e-8d05-5a91a0f30130",
   "metadata": {},
   "outputs": [],
   "source": [
    "data.loc[:, 'year_from_name'] = data['name'].str.findall(r'\\d{4}').apply(lambda x: int(x[0]) if len(x) > 0 and '1980' <= x[0] <= '2016' else np.NaN)\n",
    "data.loc[(data['year_of_release'].isna()) & (data['year_from_name'].notna()), 'year_of_release'] = data['year_from_name']\n",
    "data.drop('year_from_name', axis=1, inplace=True) #удалим столбец после использования, чтобы не путаться в них"
   ]
  },
  {
   "cell_type": "markdown",
   "id": "88f9f8b0-b7b9-4e45-9817-1298e3e2ebf6",
   "metadata": {},
   "source": [
    "Оставшиеся строки с пропущенным годом выпуска также исключим из датафрейма в силу их немногочисленности и остутствия очевидных замен."
   ]
  },
  {
   "cell_type": "code",
   "execution_count": 16,
   "id": "6dd9e38c-5983-4195-9d3c-c75bf3f2db22",
   "metadata": {
    "tags": []
   },
   "outputs": [],
   "source": [
    "data = data.query('year_of_release.notna()')"
   ]
  },
  {
   "cell_type": "markdown",
   "id": "73133ece-309d-447f-903d-30f45e22c53e",
   "metadata": {},
   "source": [
    "* оценки критиков и пользователей:\n",
    "\n",
    "Для большинства игр остутствуют оценки критиков и/или пользователей. Это может быть связано с тем, что игр действительно выходит очень много и не для всех критики и пользователи уделяют время, чтобы поставить оценку.\n",
    "\n",
    "Заполним пропуски средними оценками этих же игр, но выпущенных для других платформ, где это возможно. Остальные пропущенные значения оставим как есть, так как их слишком много, чтобы их исключать, но очевидно замены для них нет."
   ]
  },
  {
   "cell_type": "code",
   "execution_count": 17,
   "id": "ae3f4ad4-1fc7-47e9-bf00-f49c08192c56",
   "metadata": {},
   "outputs": [],
   "source": [
    "data.loc[:, 'critic_score'] = data.groupby('name')['critic_score'].transform(lambda x: x.fillna(x.mean()))"
   ]
  },
  {
   "cell_type": "code",
   "execution_count": 18,
   "id": "05e94e4f-30d1-4b9e-b905-6016b1305718",
   "metadata": {},
   "outputs": [],
   "source": [
    "data.loc[:, 'user_score'] = data.groupby('name')['user_score'].transform(lambda x: x.fillna(x.mean()))"
   ]
  },
  {
   "cell_type": "markdown",
   "id": "25c66bca-422c-41df-8ba8-bb8df8255f85",
   "metadata": {},
   "source": [
    "* рейтинг ESRB:\n",
    "\n",
    "Пропуски в возрастном рейтинге могут быть вызваны как тем, что у ESRB как и у критиков нет возможности оценить все выпущенные игры, как и тем, что организация появилась только в 1994 году, в то время как в нашем датафрейме есть игры, выпущенные гораздо раньше.\n",
    "\n",
    "Так как пропусков много и для них нет очевидной замены, оставим пропущенные значения как есть."
   ]
  },
  {
   "cell_type": "markdown",
   "id": "eaeaaabe-6d40-49a7-98ed-b56796a27f22",
   "metadata": {},
   "source": [
    "Проверим клочество пропусков в датафрейме после внесения изменений."
   ]
  },
  {
   "cell_type": "code",
   "execution_count": 19,
   "id": "86540334-5226-404f-8120-10d46431a791",
   "metadata": {
    "tags": []
   },
   "outputs": [
    {
     "data": {
      "text/plain": [
       "name                  0\n",
       "platform              0\n",
       "year_of_release       0\n",
       "genre                 0\n",
       "na_sales              0\n",
       "eu_sales              0\n",
       "jp_sales              0\n",
       "other_sales           0\n",
       "critic_score       7522\n",
       "user_score         7921\n",
       "rating             6682\n",
       "dtype: int64"
      ]
     },
     "execution_count": 19,
     "metadata": {},
     "output_type": "execute_result"
    }
   ],
   "source": [
    "data.isna().sum()"
   ]
  },
  {
   "cell_type": "markdown",
   "id": "e43df4d6-0f04-433e-9ebf-08a1caacc93e",
   "metadata": {},
   "source": [
    "#### Обработка дубликатов"
   ]
  },
  {
   "cell_type": "markdown",
   "id": "b5d5b6eb-4d84-4b80-a5ad-8bea4245c494",
   "metadata": {},
   "source": [
    "Проверим датафреймы на наличие дубликатов."
   ]
  },
  {
   "cell_type": "code",
   "execution_count": 20,
   "id": "4b396594-b3ca-494a-a069-49c70b693f63",
   "metadata": {},
   "outputs": [
    {
     "data": {
      "text/plain": [
       "0"
      ]
     },
     "execution_count": 20,
     "metadata": {},
     "output_type": "execute_result"
    }
   ],
   "source": [
    "data.duplicated().sum()"
   ]
  },
  {
   "cell_type": "markdown",
   "id": "4386e7e4-84d4-4b58-a6b2-e591012f8fe3",
   "metadata": {},
   "source": [
    "Проверка показала, что в датафрейме нет дубликатов."
   ]
  },
  {
   "cell_type": "markdown",
   "id": "2fc2623f-7861-444f-9c94-dda9e66ac0e9",
   "metadata": {},
   "source": [
    "#### Расчет суммарных продаж"
   ]
  },
  {
   "cell_type": "markdown",
   "id": "a693be8b-7181-47ec-a63a-d64502a9da98",
   "metadata": {},
   "source": [
    "Рассчитаем суммарные продажи по всем регионам."
   ]
  },
  {
   "cell_type": "code",
   "execution_count": 21,
   "id": "d504fe34-ce33-422a-8cbd-44e1d7173ec1",
   "metadata": {},
   "outputs": [],
   "source": [
    "data['total_sales'] = data['na_sales'] + data['eu_sales'] + data['jp_sales'] + data['other_sales']"
   ]
  },
  {
   "cell_type": "markdown",
   "id": "83d0b4ca-0498-4127-b8d5-fb91288a9cf8",
   "metadata": {},
   "source": [
    "## Исследовательский анализ данных"
   ]
  },
  {
   "cell_type": "markdown",
   "id": "0f93504e-d416-45e3-a46f-698e46115fc3",
   "metadata": {},
   "source": [
    "### Распределение количества выпущенных игр по годам"
   ]
  },
  {
   "cell_type": "markdown",
   "id": "a49dab1d-3ce8-49fd-9146-0c5f154aef75",
   "metadata": {},
   "source": [
    "Построим распределение количества выпущенных игр за каждый год, чтобы выделить период с наиболее релевантными для анализа данными."
   ]
  },
  {
   "cell_type": "code",
   "execution_count": 22,
   "id": "efcf3b86-0d53-4bb1-89ab-a6275eea7823",
   "metadata": {},
   "outputs": [
    {
     "data": {
      "image/png": "[encoded data removed]",
      "text/plain": [
       "<Figure size 1080x504 with 1 Axes>"
      ]
     },
     "metadata": {
      "needs_background": "light"
     },
     "output_type": "display_data"
    }
   ],
   "source": [
    "games_by_years = data.pivot_table(index='year_of_release', values='name', aggfunc='count')\n",
    "#построим сводную таблицу для построения распределения\n",
    "\n",
    "games_by_years.plot(kind='bar', figsize=(15,7))\n",
    "plt.title('Распределение количества выпущенных игр по годам')\n",
    "plt.xlabel('Год')\n",
    "plt.ylabel('Количество выпущенных игр')\n",
    "plt.legend().remove()\n",
    "plt.show()"
   ]
  },
  {
   "cell_type": "markdown",
   "id": "65cd9bb2-8b29-44dc-9e22-bcd0d5ce0b4c",
   "metadata": {},
   "source": [
    "Из графика выше можно сделать вывод о том, что в 90-х годах начался рост популярности компьютерных игр и она достигла своего пика в 2008-2009 годах, когда было выпущено около полутора тысяч игр.\n",
    "\n",
    "Начиная с 2010 года производство игр стало сокращаться и в течение последних четырех лет выпускается около пятиста игр в год.\n",
    "\n",
    "Так как нам нужно выявить закономерности, которые могут определить успешность игры в 2017 году, для анализа наиболее релевантными будут данные за 2012-2016 годы."
   ]
  },
  {
   "cell_type": "markdown",
   "id": "5a59bb7e-f5ec-4d49-b9b5-c4e730febed1",
   "metadata": {},
   "source": [
    "### Распределение продаж по платформам"
   ]
  },
  {
   "cell_type": "markdown",
   "id": "d6ceef17-1c4b-4079-b4a1-3b41f1ab1789",
   "metadata": {},
   "source": [
    "Выделим плафтормы с наибольшими суммарными продажами и построим распределение продаж по годам, чтобы определить, за какой характерный срок появляются новые и исчезают старые платформы."
   ]
  },
  {
   "cell_type": "code",
   "execution_count": 23,
   "id": "8127d2dc-2ae6-46b3-8145-6cfda2317e2d",
   "metadata": {},
   "outputs": [
    {
     "data": {
      "text/html": [
       "<div>\n",
       "<style scoped>\n",
       "    .dataframe tbody tr th:only-of-type {\n",
       "        vertical-align: middle;\n",
       "    }\n",
       "\n",
       "    .dataframe tbody tr th {\n",
       "        vertical-align: top;\n",
       "    }\n",
       "\n",
       "    .dataframe thead th {\n",
       "        text-align: right;\n",
       "    }\n",
       "</style>\n",
       "<table border=\"1\" class=\"dataframe\">\n",
       "  <thead>\n",
       "    <tr style=\"text-align: right;\">\n",
       "      <th></th>\n",
       "      <th>total_sales</th>\n",
       "    </tr>\n",
       "    <tr>\n",
       "      <th>platform</th>\n",
       "      <th></th>\n",
       "    </tr>\n",
       "  </thead>\n",
       "  <tbody>\n",
       "    <tr>\n",
       "      <th>PS2</th>\n",
       "      <td>1247.28</td>\n",
       "    </tr>\n",
       "    <tr>\n",
       "      <th>X360</th>\n",
       "      <td>961.30</td>\n",
       "    </tr>\n",
       "    <tr>\n",
       "      <th>PS3</th>\n",
       "      <td>931.34</td>\n",
       "    </tr>\n",
       "    <tr>\n",
       "      <th>Wii</th>\n",
       "      <td>891.18</td>\n",
       "    </tr>\n",
       "    <tr>\n",
       "      <th>DS</th>\n",
       "      <td>802.79</td>\n",
       "    </tr>\n",
       "    <tr>\n",
       "      <th>PS</th>\n",
       "      <td>727.58</td>\n",
       "    </tr>\n",
       "    <tr>\n",
       "      <th>PS4</th>\n",
       "      <td>314.14</td>\n",
       "    </tr>\n",
       "    <tr>\n",
       "      <th>GBA</th>\n",
       "      <td>312.88</td>\n",
       "    </tr>\n",
       "    <tr>\n",
       "      <th>PSP</th>\n",
       "      <td>290.34</td>\n",
       "    </tr>\n",
       "    <tr>\n",
       "      <th>3DS</th>\n",
       "      <td>257.81</td>\n",
       "    </tr>\n",
       "    <tr>\n",
       "      <th>PC</th>\n",
       "      <td>256.11</td>\n",
       "    </tr>\n",
       "    <tr>\n",
       "      <th>GB</th>\n",
       "      <td>254.43</td>\n",
       "    </tr>\n",
       "    <tr>\n",
       "      <th>XB</th>\n",
       "      <td>252.66</td>\n",
       "    </tr>\n",
       "    <tr>\n",
       "      <th>NES</th>\n",
       "      <td>251.05</td>\n",
       "    </tr>\n",
       "    <tr>\n",
       "      <th>N64</th>\n",
       "      <td>218.01</td>\n",
       "    </tr>\n",
       "    <tr>\n",
       "      <th>SNES</th>\n",
       "      <td>200.04</td>\n",
       "    </tr>\n",
       "    <tr>\n",
       "      <th>GC</th>\n",
       "      <td>197.03</td>\n",
       "    </tr>\n",
       "    <tr>\n",
       "      <th>XOne</th>\n",
       "      <td>159.32</td>\n",
       "    </tr>\n",
       "    <tr>\n",
       "      <th>2600</th>\n",
       "      <td>86.48</td>\n",
       "    </tr>\n",
       "    <tr>\n",
       "      <th>WiiU</th>\n",
       "      <td>82.19</td>\n",
       "    </tr>\n",
       "    <tr>\n",
       "      <th>PSV</th>\n",
       "      <td>53.81</td>\n",
       "    </tr>\n",
       "    <tr>\n",
       "      <th>SAT</th>\n",
       "      <td>33.59</td>\n",
       "    </tr>\n",
       "    <tr>\n",
       "      <th>GEN</th>\n",
       "      <td>28.35</td>\n",
       "    </tr>\n",
       "    <tr>\n",
       "      <th>DC</th>\n",
       "      <td>15.95</td>\n",
       "    </tr>\n",
       "    <tr>\n",
       "      <th>SCD</th>\n",
       "      <td>1.86</td>\n",
       "    </tr>\n",
       "    <tr>\n",
       "      <th>NG</th>\n",
       "      <td>1.44</td>\n",
       "    </tr>\n",
       "    <tr>\n",
       "      <th>WS</th>\n",
       "      <td>1.42</td>\n",
       "    </tr>\n",
       "    <tr>\n",
       "      <th>TG16</th>\n",
       "      <td>0.16</td>\n",
       "    </tr>\n",
       "    <tr>\n",
       "      <th>3DO</th>\n",
       "      <td>0.10</td>\n",
       "    </tr>\n",
       "    <tr>\n",
       "      <th>GG</th>\n",
       "      <td>0.04</td>\n",
       "    </tr>\n",
       "    <tr>\n",
       "      <th>PCFX</th>\n",
       "      <td>0.03</td>\n",
       "    </tr>\n",
       "  </tbody>\n",
       "</table>\n",
       "</div>"
      ],
      "text/plain": [
       "          total_sales\n",
       "platform             \n",
       "PS2           1247.28\n",
       "X360           961.30\n",
       "PS3            931.34\n",
       "Wii            891.18\n",
       "DS             802.79\n",
       "PS             727.58\n",
       "PS4            314.14\n",
       "GBA            312.88\n",
       "PSP            290.34\n",
       "3DS            257.81\n",
       "PC             256.11\n",
       "GB             254.43\n",
       "XB             252.66\n",
       "NES            251.05\n",
       "N64            218.01\n",
       "SNES           200.04\n",
       "GC             197.03\n",
       "XOne           159.32\n",
       "2600            86.48\n",
       "WiiU            82.19\n",
       "PSV             53.81\n",
       "SAT             33.59\n",
       "GEN             28.35\n",
       "DC              15.95\n",
       "SCD              1.86\n",
       "NG               1.44\n",
       "WS               1.42\n",
       "TG16             0.16\n",
       "3DO              0.10\n",
       "GG               0.04\n",
       "PCFX             0.03"
      ]
     },
     "execution_count": 23,
     "metadata": {},
     "output_type": "execute_result"
    }
   ],
   "source": [
    "sales_by_platforms = data.pivot_table(index='platform', values='total_sales', aggfunc='sum')\n",
    "sales_by_platforms.columns = ['total_sales']\n",
    "sales_by_platforms.sort_values(by='total_sales', ascending=False)"
   ]
  },
  {
   "cell_type": "markdown",
   "id": "306c13d5-3cc6-4823-95cc-5b7460339e29",
   "metadata": {},
   "source": [
    "Для анализа выберем топ-6 платформ. Построим для них графики распределения продаж по годам."
   ]
  },
  {
   "cell_type": "code",
   "execution_count": 24,
   "id": "4e51867a-ce03-40e2-8483-75b29a0a128b",
   "metadata": {},
   "outputs": [
    {
     "data": {
      "image/png": "[encoded data removed]",
      "text/plain": [
       "<Figure size 1080x1800 with 6 Axes>"
      ]
     },
     "metadata": {
      "needs_background": "light"
     },
     "output_type": "display_data"
    }
   ],
   "source": [
    "fig, axs = plt.subplots(nrows=3, ncols=2, figsize=(15, 25))\n",
    "fig.suptitle('Распределения продаж по годам', y=0.91)\n",
    "\n",
    "data.loc[data['platform'] == 'PS2'].pivot_table(index='year_of_release', values='total_sales', aggfunc='sum')\\\n",
    "    .plot(kind='bar', title = 'PS2', ax=axs[0,0])\n",
    "data.loc[data['platform'] == 'X360'].pivot_table(index='year_of_release', values='total_sales', aggfunc='sum')\\\n",
    "    .plot(kind='bar', title = 'X360', ax=axs[0,1])\n",
    "data.loc[data['platform'] == 'PS3'].pivot_table(index='year_of_release', values='total_sales', aggfunc='sum')\\\n",
    "    .plot(kind='bar', title = 'PS3', ax=axs[1,0])\n",
    "data.loc[data['platform'] == 'Wii'].pivot_table(index='year_of_release', values='total_sales', aggfunc='sum')\\\n",
    "    .plot(kind='bar', title = 'Wii', ax=axs[1,1])\n",
    "data.loc[data['platform'] == 'DS'].pivot_table(index='year_of_release', values='total_sales', aggfunc='sum')\\\n",
    "    .plot(kind='bar', title = 'DS', ax=axs[2,0])\n",
    "data.loc[data['platform'] == 'PS'].pivot_table(index='year_of_release', values='total_sales', aggfunc='sum')\\\n",
    "    .plot(kind='bar', title = 'PS', ax=axs[2,1])\n",
    "\n",
    "\n",
    "for ax in axs.flat:\n",
    "    ax.set(xlabel='Год', ylabel='Суммарные продажи, млн копий')\n",
    "\n",
    "plt.legend().remove()\n",
    "plt.show()"
   ]
  },
  {
   "cell_type": "markdown",
   "id": "f9533d61-6776-48b6-b6b2-aee7fdbc0410",
   "metadata": {},
   "source": [
    "Исходя из графиков можно сделать вывод о том, что жизненный цикл платформы составляет около 10 лет. Соответственно для исследования нужно выбирать игры на тех платформах, которые появились не менее 10 лет назад."
   ]
  },
  {
   "cell_type": "markdown",
   "id": "ed315102-d02f-4562-868d-d7c549238887",
   "metadata": {},
   "source": [
    "### Выбор актуальных для исследования периода и платформ"
   ]
  },
  {
   "cell_type": "markdown",
   "id": "6dae3638-af14-4642-9e8a-eb005996fb82",
   "metadata": {},
   "source": [
    "Сформируем датафрейм, на основе которого будем проводить исследование.\n",
    "\n",
    "Для начала выделим актуальный период."
   ]
  },
  {
   "cell_type": "code",
   "execution_count": 25,
   "id": "61064fba-fe69-4556-9fed-3381f46ea42b",
   "metadata": {
    "tags": []
   },
   "outputs": [],
   "source": [
    "relevant_data = data.copy().query('year_of_release >= 2012')"
   ]
  },
  {
   "cell_type": "code",
   "execution_count": 26,
   "id": "5a57623c-6c58-4019-b9ca-89a84989e764",
   "metadata": {},
   "outputs": [
    {
     "name": "stdout",
     "output_type": "stream",
     "text": [
      "<class 'pandas.core.frame.DataFrame'>\n",
      "Int64Index: 2887 entries, 16 to 16714\n",
      "Data columns (total 12 columns):\n",
      " #   Column           Non-Null Count  Dtype  \n",
      "---  ------           --------------  -----  \n",
      " 0   name             2887 non-null   object \n",
      " 1   platform         2887 non-null   object \n",
      " 2   year_of_release  2887 non-null   Int64  \n",
      " 3   genre            2887 non-null   object \n",
      " 4   na_sales         2887 non-null   float64\n",
      " 5   eu_sales         2887 non-null   float64\n",
      " 6   jp_sales         2887 non-null   float64\n",
      " 7   other_sales      2887 non-null   float64\n",
      " 8   critic_score     1693 non-null   float64\n",
      " 9   user_score       1743 non-null   float64\n",
      " 10  rating           1612 non-null   object \n",
      " 11  total_sales      2887 non-null   float64\n",
      "dtypes: Int64(1), float64(7), object(4)\n",
      "memory usage: 296.0+ KB\n"
     ]
    }
   ],
   "source": [
    "relevant_data.info()"
   ]
  },
  {
   "cell_type": "markdown",
   "id": "0241842f-ca7d-4465-800b-fe3c77b6bfd4",
   "metadata": {},
   "source": [
    "В выбранном датафрейме около трех тысяч строк - достаточно для проведения углубленного анализа."
   ]
  },
  {
   "cell_type": "markdown",
   "id": "5a1f49b6-45b8-4843-a97c-c1acd6d13a6e",
   "metadata": {},
   "source": [
    "Теперь изучим платформы, игры для которых выпускались в выбранном нами периоде."
   ]
  },
  {
   "cell_type": "code",
   "execution_count": 27,
   "id": "32c32624-e6b9-48bc-a373-d27a19c2b751",
   "metadata": {},
   "outputs": [
    {
     "data": {
      "image/png": "[encoded data removed]",
      "text/plain": [
       "<Figure size 1080x504 with 1 Axes>"
      ]
     },
     "metadata": {
      "needs_background": "light"
     },
     "output_type": "display_data"
    }
   ],
   "source": [
    "relevant_data.pivot_table(index='platform', columns='year_of_release', values='total_sales', aggfunc='sum')\\\n",
    "    .plot(kind='bar', figsize=[15, 7])\n",
    "\n",
    "plt.title('Распределения продаж по годам')\n",
    "plt.xlabel('Платформа')\n",
    "plt.ylabel('Суммарные продажи, млн копий')\n",
    "plt.legend(title='Год выпуска')\n",
    "\n",
    "plt.show()"
   ]
  },
  {
   "cell_type": "markdown",
   "id": "de6ab0ed-c4f7-414c-971a-2ea8cf676584",
   "metadata": {},
   "source": [
    "На основе граифка можно сделать следующие выводы по платформам:\n",
    "* 3DS\n",
    "\n",
    "Начиная с 2013 года продажи игр для 3DS начали падать, тем не менее данная платформа остается в топ-3 по количеству проданных копий в 2016 году.\n",
    "\n",
    "* DS\n",
    "\n",
    "Продажи игр для DS остаются весьма незначительными последние 3 года.\n",
    "\n",
    "* PC\n",
    "\n",
    "Несмотря на снижающийся спрос на игры для PC, продажи остаются значительными в 2016 году. \n",
    "\n",
    "* PS3\n",
    "\n",
    "Продажи игр для PS3 резко начали падать, начиная с 2014 года. Это, конечно, связано с успешным выпуском PS нового поколения - PS4.\n",
    "\n",
    "* PS4\n",
    "\n",
    "Несмотря на снижение уровня продаж в 2016 году, PS4 остается абсолютным лидером по количеству проданных копий.\n",
    "\n",
    "* PSP\n",
    "\n",
    "Игры для PSP, также как и для DS, продаются сравнительно небольшим тиражом последние 3 года.\n",
    "\n",
    "* PSV\n",
    "\n",
    "Спрос на игры для PSV снижается последние три года, но остается значительным в 2016 году.\n",
    "\n",
    "* Wii\n",
    "\n",
    "По аналогии с PS, продажи игр на Wii резко сократились с 2013 года с выпуском консоли нового поколения - WiiU.\n",
    "\n",
    "* WiiU\n",
    "Продажи игр для WiiU начали снижаться в 2015 году, но спрос все еще остается значительным в 2016 году.\n",
    "\n",
    "* X360\n",
    "\n",
    "Игры для X360 также стали продаваться меньшим тиражом после выпсука консоли следующего поколения в 2013 - XOne. \n",
    "\n",
    "* XOne\n",
    "\n",
    "Также не смотря на снижение продаж в 2016 году, платформа остается на втором месте по количеству проданных копий игр.\n",
    "\n",
    "\n",
    "Исходя из анализа платформ выше мы можем выделить наиболее перcпективные:\n",
    "1. PS4\n",
    "2. XOne\n",
    "3. 3DS\n",
    "4. PC\n",
    "5. WiiU"
   ]
  },
  {
   "cell_type": "code",
   "execution_count": 28,
   "id": "df28ba32-b74b-4a5b-891a-ed8a9df890fb",
   "metadata": {},
   "outputs": [],
   "source": [
    "top_platforms = ['PS4', 'XOne', '3DS', 'PC', 'WiiU']"
   ]
  },
  {
   "cell_type": "markdown",
   "id": "eb8f99ea-f3d1-4c7a-8d33-1170f8356da0",
   "metadata": {},
   "source": [
    "### Анализ суммарных продаж на перспективных платформах"
   ]
  },
  {
   "cell_type": "markdown",
   "id": "afb49d7b-652c-4582-81fc-c0bd70b50cc9",
   "metadata": {},
   "source": [
    "Изучим разброс суммарных продаж по выбранным нами платформам, чтобы оценить и спрогнозировать средние показатели для каждой платформы."
   ]
  },
  {
   "cell_type": "code",
   "execution_count": 29,
   "id": "eab72627-ac71-43e9-989f-5125d444464c",
   "metadata": {},
   "outputs": [
    {
     "data": {
      "image/png": "[encoded data removed]",
      "text/plain": [
       "<Figure size 1080x504 with 1 Axes>"
      ]
     },
     "metadata": {
      "needs_background": "light"
     },
     "output_type": "display_data"
    }
   ],
   "source": [
    "relevant_data.query('platform.isin(@top_platforms)').boxplot('total_sales', by='platform', figsize=[15, 7])\n",
    "\n",
    "plt.title('Суммарные продажи на перспективных платформах')\n",
    "plt.suptitle('')\n",
    "plt.xlabel('Платформа')\n",
    "plt.ylabel('Суммарные продажи, млн копий')\n",
    "\n",
    "plt.show()"
   ]
  },
  {
   "cell_type": "markdown",
   "id": "6de7cb38-dfdf-4d2a-b449-28109ca8c54f",
   "metadata": {},
   "source": [
    "Из графика выше можно сделать вывод о том, что стандартный тираж игр составляет около миллиона копий для DS и PC и 1.5-2 миллиона для PS4, WiiU и XOne.\n",
    "\n",
    "При этом мы видим, что сверхпопулярные игры зачастую выпускаются для 3DS и PS4 с максимальным тиражом в 15 миллионов копий. Игры для WiiU и XOne не превышают тираж в 8 миллионов копий, а для PC - в 6 миллионов копий."
   ]
  },
  {
   "cell_type": "markdown",
   "id": "6183bfb9-3818-4afb-a598-e79f2d5e36b7",
   "metadata": {},
   "source": [
    "### Влияние оценок на продажи"
   ]
  },
  {
   "cell_type": "markdown",
   "id": "e2be6b9f-5367-498d-ab89-97c057bc0d6b",
   "metadata": {},
   "source": [
    "Изучим влияние оценок критиков и пользователей на продажи на примере самой популярной платформы - PS4."
   ]
  },
  {
   "cell_type": "code",
   "execution_count": 30,
   "id": "1d5d1070-63c5-4427-b125-3341936de9b1",
   "metadata": {},
   "outputs": [
    {
     "data": {
      "image/png": "[encoded data removed]",
      "text/plain": [
       "<Figure size 1080x504 with 2 Axes>"
      ]
     },
     "metadata": {
      "needs_background": "light"
     },
     "output_type": "display_data"
    }
   ],
   "source": [
    "fig, axs = plt.subplots(nrows=1, ncols=2, figsize=(15, 7))\n",
    "fig.suptitle('Влияние оценок на продажи')\n",
    "\n",
    "relevant_data.loc[relevant_data['platform'] == 'PS4'].plot(x='critic_score', y='total_sales', kind='scatter',\\\n",
    "                                                           title='Оценка критиков', ax=axs[0])\n",
    "relevant_data.loc[relevant_data['platform'] == 'PS4'].plot(x='user_score', y='total_sales', kind='scatter',\\\n",
    "                                                           title='Оценка пользователей', ax=axs[1])\n",
    "for ax in axs.flat:\n",
    "    ax.set(ylabel='Суммарные продажи, млн копий', xlabel='Оценка')\n",
    "\n",
    "plt.show()"
   ]
  },
  {
   "cell_type": "code",
   "execution_count": 31,
   "id": "af615df3-c59b-4ade-8673-1eab2dfcb761",
   "metadata": {},
   "outputs": [
    {
     "data": {
      "text/plain": [
       "0.39155120045082015"
      ]
     },
     "execution_count": 31,
     "metadata": {},
     "output_type": "execute_result"
    }
   ],
   "source": [
    "relevant_data.loc[relevant_data['platform'] == 'PS4']['total_sales']\\\n",
    "    .corr(relevant_data.loc[relevant_data['platform'] == 'PS4']['critic_score'])"
   ]
  },
  {
   "cell_type": "code",
   "execution_count": 32,
   "id": "5a60597d-e6ca-4791-a43a-58d99232c6d1",
   "metadata": {},
   "outputs": [
    {
     "data": {
      "text/plain": [
       "-0.021612493200478526"
      ]
     },
     "execution_count": 32,
     "metadata": {},
     "output_type": "execute_result"
    }
   ],
   "source": [
    "relevant_data.loc[relevant_data['platform'] == 'PS4']['total_sales']\\\n",
    "    .corr(relevant_data.loc[relevant_data['platform'] == 'PS4']['user_score'])"
   ]
  },
  {
   "cell_type": "markdown",
   "id": "273a528b-525b-4437-a94a-524b30b95b0d",
   "metadata": {},
   "source": [
    "Графики выше демонстрируют прямую связь между оценками критиков и суммарными продажами игр, и практически отсутствие связи между оценками пользователей и суммарными продажами.\n",
    "\n",
    "Эту закономерность подтверждают коэффициенты корреляции между параметрами: 0.39 и -0.02, соответственно.\n",
    "\n",
    "Следовательно оценки критиков имеют определенное влияние на успешность игры с точки зрения продаж, а вот оценки пользователей - нет."
   ]
  },
  {
   "cell_type": "markdown",
   "id": "2f58f874-6a5a-47fa-9286-149622c3ab99",
   "metadata": {},
   "source": [
    "Проверим, насколько данный вывод распространяется на другие релевантные платформы:\n",
    "\n",
    "* XOne:"
   ]
  },
  {
   "cell_type": "code",
   "execution_count": 33,
   "id": "18f6717f-d9c0-44a7-93e0-5bbbaf8f1a31",
   "metadata": {},
   "outputs": [
    {
     "data": {
      "text/plain": [
       "0.37398972351240567"
      ]
     },
     "execution_count": 33,
     "metadata": {},
     "output_type": "execute_result"
    }
   ],
   "source": [
    "relevant_data.loc[relevant_data['platform'] == 'XOne']['total_sales']\\\n",
    "    .corr(relevant_data.loc[relevant_data['platform'] == 'XOne']['critic_score'])"
   ]
  },
  {
   "cell_type": "code",
   "execution_count": 34,
   "id": "d6556a6b-b228-4bd1-9fba-7ef889c5faf6",
   "metadata": {
    "tags": []
   },
   "outputs": [
    {
     "data": {
      "text/plain": [
       "-0.09402749243006256"
      ]
     },
     "execution_count": 34,
     "metadata": {},
     "output_type": "execute_result"
    }
   ],
   "source": [
    "relevant_data.loc[relevant_data['platform'] == 'XOne']['total_sales']\\\n",
    "    .corr(relevant_data.loc[relevant_data['platform'] == 'XOne']['user_score'])"
   ]
  },
  {
   "cell_type": "markdown",
   "id": "98f10db4-86df-4db8-ac4e-736fe9ed905f",
   "metadata": {},
   "source": [
    "Для XOne наблюдается схожая связь между оценками критиков и пользователей и суммарными продажами."
   ]
  },
  {
   "cell_type": "markdown",
   "id": "60bf4a90-8093-4936-985c-953767a75a7b",
   "metadata": {},
   "source": [
    "* 3DS:"
   ]
  },
  {
   "cell_type": "code",
   "execution_count": 35,
   "id": "1f28fefb-c5a4-466b-9876-290431fffcf1",
   "metadata": {},
   "outputs": [
    {
     "data": {
      "text/plain": [
       "0.29150875716625446"
      ]
     },
     "execution_count": 35,
     "metadata": {},
     "output_type": "execute_result"
    }
   ],
   "source": [
    "relevant_data.loc[relevant_data['platform'] == '3DS']['total_sales']\\\n",
    "    .corr(relevant_data.loc[relevant_data['platform'] == '3DS']['critic_score'])"
   ]
  },
  {
   "cell_type": "code",
   "execution_count": 36,
   "id": "dee2c7f6-44f2-4845-8c16-74d2f86f921e",
   "metadata": {
    "tags": []
   },
   "outputs": [
    {
     "data": {
      "text/plain": [
       "0.21418790254856826"
      ]
     },
     "execution_count": 36,
     "metadata": {},
     "output_type": "execute_result"
    }
   ],
   "source": [
    "relevant_data.loc[relevant_data['platform'] == '3DS']['total_sales']\\\n",
    "    .corr(relevant_data.loc[relevant_data['platform'] == '3DS']['user_score'])"
   ]
  },
  {
   "cell_type": "markdown",
   "id": "f55e8443-2ca8-4d20-ba09-5980e3cb0d3c",
   "metadata": {},
   "source": [
    "Стоит отметить, что для 3DS оценки критиков имеют меньше влияния на суммарные продажи по сравнению с предыдущими двумя платформами, а вот оценки пользователей - наоборот, больше.\n",
    "\n",
    "Но все же коэффициенты небольшие и указывают скорее на слабую связь между оценками критиков и пользователей и суммарными продажами."
   ]
  },
  {
   "cell_type": "markdown",
   "id": "5a76f243-80c9-43f0-909b-ac79d2be96ad",
   "metadata": {},
   "source": [
    "* PC:"
   ]
  },
  {
   "cell_type": "code",
   "execution_count": 37,
   "id": "a0537219-922a-4290-bf4f-24bb2c56c31a",
   "metadata": {},
   "outputs": [
    {
     "data": {
      "text/plain": [
       "0.2322754824980256"
      ]
     },
     "execution_count": 37,
     "metadata": {},
     "output_type": "execute_result"
    }
   ],
   "source": [
    "relevant_data.loc[relevant_data['platform'] == 'PC']['total_sales']\\\n",
    "    .corr(relevant_data.loc[relevant_data['platform'] == 'PC']['critic_score'])"
   ]
  },
  {
   "cell_type": "code",
   "execution_count": 38,
   "id": "ba2dc7cb-f221-47cb-8e06-831d4b869f53",
   "metadata": {
    "tags": []
   },
   "outputs": [
    {
     "data": {
      "text/plain": [
       "-0.1262508450814366"
      ]
     },
     "execution_count": 38,
     "metadata": {},
     "output_type": "execute_result"
    }
   ],
   "source": [
    "relevant_data.loc[relevant_data['platform'] == 'PC']['total_sales']\\\n",
    "    .corr(relevant_data.loc[relevant_data['platform'] == 'PC']['user_score'])"
   ]
  },
  {
   "cell_type": "markdown",
   "id": "ad334e13-2394-4e69-bef3-b0cb00d249ee",
   "metadata": {},
   "source": [
    "Связь между оценками критиков и пользователей и суммарными продажами для PC подчинаяется той же закономерности, что и для 3DS."
   ]
  },
  {
   "cell_type": "markdown",
   "id": "e16be1e7-399a-45ef-ba66-ff8b41e7ae68",
   "metadata": {},
   "source": [
    "* WiiU:"
   ]
  },
  {
   "cell_type": "code",
   "execution_count": 39,
   "id": "14f8d90c-02a9-41cb-9912-91e89b34c225",
   "metadata": {},
   "outputs": [
    {
     "data": {
      "text/plain": [
       "0.32749655500689184"
      ]
     },
     "execution_count": 39,
     "metadata": {},
     "output_type": "execute_result"
    }
   ],
   "source": [
    "relevant_data.loc[relevant_data['platform'] == 'WiiU']['total_sales']\\\n",
    "    .corr(relevant_data.loc[relevant_data['platform'] == 'WiiU']['critic_score'])"
   ]
  },
  {
   "cell_type": "code",
   "execution_count": 40,
   "id": "d5c15a13-a76d-4be0-9d82-528023d3e1f6",
   "metadata": {
    "tags": []
   },
   "outputs": [
    {
     "data": {
      "text/plain": [
       "0.3668819759743242"
      ]
     },
     "execution_count": 40,
     "metadata": {},
     "output_type": "execute_result"
    }
   ],
   "source": [
    "relevant_data.loc[relevant_data['platform'] == 'WiiU']['total_sales']\\\n",
    "    .corr(relevant_data.loc[relevant_data['platform'] == 'WiiU']['user_score'])"
   ]
  },
  {
   "cell_type": "markdown",
   "id": "642161a0-59fd-4994-aa13-0bbed658b093",
   "metadata": {},
   "source": [
    "Для WiiU оценки пользователей имеют чуть большее влияние на суммарные продажи, чем оценки критиков. Но опять же это влияние не является решающим для успешности игры с точки зрения продаж."
   ]
  },
  {
   "cell_type": "markdown",
   "id": "0b300dac-c8c8-448c-a57d-6214ec666276",
   "metadata": {},
   "source": [
    "Исходя из проведенного анализа корреляции оценок критиков и пользователей и суммарных продаж для релевантных платформ, мы можем сделать вывод, что нет единой закономерности, которой подчиняется эта связь. Для каждой платформы существует своя закономерность.\n",
    "\n",
    "Однако для всех платформ эта связь достаточно слабая и не имеет решающего влияния на успешность игры с точки зрения продаж."
   ]
  },
  {
   "cell_type": "markdown",
   "id": "ad60c844-9a62-401e-ab22-84c77346e27c",
   "metadata": {},
   "source": [
    "### Распределение продаж по жанрам"
   ]
  },
  {
   "cell_type": "markdown",
   "id": "8c0454b8-6b59-4233-b9cf-4a4331515a48",
   "metadata": {},
   "source": [
    "Проанализируем распределение продаж по жанрам и изучим прибыльность различных жанров."
   ]
  },
  {
   "cell_type": "code",
   "execution_count": 41,
   "id": "555f9e4e-a64f-4fb1-bf2a-e94da2e4246b",
   "metadata": {},
   "outputs": [
    {
     "data": {
      "image/png": "[encoded data removed]",
      "text/plain": [
       "<Figure size 1080x504 with 1 Axes>"
      ]
     },
     "metadata": {
      "needs_background": "light"
     },
     "output_type": "display_data"
    }
   ],
   "source": [
    "relevant_data['genre'].value_counts().plot(kind='barh', figsize=(15,7))\n",
    "\n",
    "plt.title('Распределение продаж по жанрам')\n",
    "plt.xlabel('Частота')\n",
    "plt.ylabel('Жанр')\n",
    "\n",
    "plt.show()"
   ]
  },
  {
   "cell_type": "code",
   "execution_count": 42,
   "id": "04392fd7-29ec-4aa4-853b-7a0d8f14eab6",
   "metadata": {},
   "outputs": [
    {
     "data": {
      "image/png": "[encoded data removed]",
      "text/plain": [
       "<Figure size 1080x504 with 1 Axes>"
      ]
     },
     "metadata": {
      "needs_background": "light"
     },
     "output_type": "display_data"
    }
   ],
   "source": [
    "relevant_data.boxplot('total_sales', by='genre', figsize=[15, 7])\n",
    "\n",
    "plt.title('Суммарные продажи по жанрам')\n",
    "plt.suptitle('')\n",
    "plt.xlabel('Жанр')\n",
    "plt.ylabel('Суммарные продажи, млн копий')\n",
    "\n",
    "plt.show()"
   ]
  },
  {
   "cell_type": "code",
   "execution_count": 43,
   "id": "4f98157d-caff-4eea-a046-53be62da1eed",
   "metadata": {},
   "outputs": [
    {
     "data": {
      "text/html": [
       "<div>\n",
       "<style scoped>\n",
       "    .dataframe tbody tr th:only-of-type {\n",
       "        vertical-align: middle;\n",
       "    }\n",
       "\n",
       "    .dataframe tbody tr th {\n",
       "        vertical-align: top;\n",
       "    }\n",
       "\n",
       "    .dataframe thead th {\n",
       "        text-align: right;\n",
       "    }\n",
       "</style>\n",
       "<table border=\"1\" class=\"dataframe\">\n",
       "  <thead>\n",
       "    <tr style=\"text-align: right;\">\n",
       "      <th></th>\n",
       "      <th>count</th>\n",
       "      <th>mean</th>\n",
       "      <th>std</th>\n",
       "      <th>min</th>\n",
       "      <th>25%</th>\n",
       "      <th>50%</th>\n",
       "      <th>75%</th>\n",
       "      <th>max</th>\n",
       "    </tr>\n",
       "    <tr>\n",
       "      <th>genre</th>\n",
       "      <th></th>\n",
       "      <th></th>\n",
       "      <th></th>\n",
       "      <th></th>\n",
       "      <th></th>\n",
       "      <th></th>\n",
       "      <th></th>\n",
       "      <th></th>\n",
       "    </tr>\n",
       "  </thead>\n",
       "  <tbody>\n",
       "    <tr>\n",
       "      <th>Action</th>\n",
       "      <td>1032.0</td>\n",
       "      <td>0.427781</td>\n",
       "      <td>1.165941</td>\n",
       "      <td>0.01</td>\n",
       "      <td>0.030</td>\n",
       "      <td>0.120</td>\n",
       "      <td>0.3900</td>\n",
       "      <td>21.05</td>\n",
       "    </tr>\n",
       "    <tr>\n",
       "      <th>Adventure</th>\n",
       "      <td>302.0</td>\n",
       "      <td>0.097450</td>\n",
       "      <td>0.208237</td>\n",
       "      <td>0.01</td>\n",
       "      <td>0.020</td>\n",
       "      <td>0.030</td>\n",
       "      <td>0.0775</td>\n",
       "      <td>1.66</td>\n",
       "    </tr>\n",
       "    <tr>\n",
       "      <th>Fighting</th>\n",
       "      <td>109.0</td>\n",
       "      <td>0.408165</td>\n",
       "      <td>0.910385</td>\n",
       "      <td>0.01</td>\n",
       "      <td>0.060</td>\n",
       "      <td>0.130</td>\n",
       "      <td>0.3600</td>\n",
       "      <td>7.55</td>\n",
       "    </tr>\n",
       "    <tr>\n",
       "      <th>Misc</th>\n",
       "      <td>192.0</td>\n",
       "      <td>0.442917</td>\n",
       "      <td>1.081047</td>\n",
       "      <td>0.01</td>\n",
       "      <td>0.030</td>\n",
       "      <td>0.120</td>\n",
       "      <td>0.3375</td>\n",
       "      <td>9.18</td>\n",
       "    </tr>\n",
       "    <tr>\n",
       "      <th>Platform</th>\n",
       "      <td>85.0</td>\n",
       "      <td>0.717647</td>\n",
       "      <td>1.364413</td>\n",
       "      <td>0.01</td>\n",
       "      <td>0.090</td>\n",
       "      <td>0.210</td>\n",
       "      <td>0.6600</td>\n",
       "      <td>9.90</td>\n",
       "    </tr>\n",
       "    <tr>\n",
       "      <th>Puzzle</th>\n",
       "      <td>28.0</td>\n",
       "      <td>0.174643</td>\n",
       "      <td>0.305438</td>\n",
       "      <td>0.01</td>\n",
       "      <td>0.020</td>\n",
       "      <td>0.045</td>\n",
       "      <td>0.1025</td>\n",
       "      <td>1.19</td>\n",
       "    </tr>\n",
       "    <tr>\n",
       "      <th>Racing</th>\n",
       "      <td>115.0</td>\n",
       "      <td>0.465217</td>\n",
       "      <td>0.888664</td>\n",
       "      <td>0.01</td>\n",
       "      <td>0.050</td>\n",
       "      <td>0.140</td>\n",
       "      <td>0.4200</td>\n",
       "      <td>7.09</td>\n",
       "    </tr>\n",
       "    <tr>\n",
       "      <th>Role-Playing</th>\n",
       "      <td>370.0</td>\n",
       "      <td>0.521081</td>\n",
       "      <td>1.315937</td>\n",
       "      <td>0.01</td>\n",
       "      <td>0.060</td>\n",
       "      <td>0.140</td>\n",
       "      <td>0.4075</td>\n",
       "      <td>14.60</td>\n",
       "    </tr>\n",
       "    <tr>\n",
       "      <th>Shooter</th>\n",
       "      <td>235.0</td>\n",
       "      <td>1.296723</td>\n",
       "      <td>2.251662</td>\n",
       "      <td>0.01</td>\n",
       "      <td>0.135</td>\n",
       "      <td>0.440</td>\n",
       "      <td>1.4800</td>\n",
       "      <td>14.63</td>\n",
       "    </tr>\n",
       "    <tr>\n",
       "      <th>Simulation</th>\n",
       "      <td>80.0</td>\n",
       "      <td>0.439000</td>\n",
       "      <td>1.244500</td>\n",
       "      <td>0.01</td>\n",
       "      <td>0.030</td>\n",
       "      <td>0.120</td>\n",
       "      <td>0.3275</td>\n",
       "      <td>9.17</td>\n",
       "    </tr>\n",
       "    <tr>\n",
       "      <th>Sports</th>\n",
       "      <td>268.0</td>\n",
       "      <td>0.675634</td>\n",
       "      <td>1.136378</td>\n",
       "      <td>0.01</td>\n",
       "      <td>0.080</td>\n",
       "      <td>0.240</td>\n",
       "      <td>0.7425</td>\n",
       "      <td>8.58</td>\n",
       "    </tr>\n",
       "    <tr>\n",
       "      <th>Strategy</th>\n",
       "      <td>71.0</td>\n",
       "      <td>0.187887</td>\n",
       "      <td>0.271976</td>\n",
       "      <td>0.01</td>\n",
       "      <td>0.030</td>\n",
       "      <td>0.080</td>\n",
       "      <td>0.2500</td>\n",
       "      <td>1.67</td>\n",
       "    </tr>\n",
       "  </tbody>\n",
       "</table>\n",
       "</div>"
      ],
      "text/plain": [
       "               count      mean       std   min    25%    50%     75%    max\n",
       "genre                                                                      \n",
       "Action        1032.0  0.427781  1.165941  0.01  0.030  0.120  0.3900  21.05\n",
       "Adventure      302.0  0.097450  0.208237  0.01  0.020  0.030  0.0775   1.66\n",
       "Fighting       109.0  0.408165  0.910385  0.01  0.060  0.130  0.3600   7.55\n",
       "Misc           192.0  0.442917  1.081047  0.01  0.030  0.120  0.3375   9.18\n",
       "Platform        85.0  0.717647  1.364413  0.01  0.090  0.210  0.6600   9.90\n",
       "Puzzle          28.0  0.174643  0.305438  0.01  0.020  0.045  0.1025   1.19\n",
       "Racing         115.0  0.465217  0.888664  0.01  0.050  0.140  0.4200   7.09\n",
       "Role-Playing   370.0  0.521081  1.315937  0.01  0.060  0.140  0.4075  14.60\n",
       "Shooter        235.0  1.296723  2.251662  0.01  0.135  0.440  1.4800  14.63\n",
       "Simulation      80.0  0.439000  1.244500  0.01  0.030  0.120  0.3275   9.17\n",
       "Sports         268.0  0.675634  1.136378  0.01  0.080  0.240  0.7425   8.58\n",
       "Strategy        71.0  0.187887  0.271976  0.01  0.030  0.080  0.2500   1.67"
      ]
     },
     "execution_count": 43,
     "metadata": {},
     "output_type": "execute_result"
    }
   ],
   "source": [
    "relevant_data.groupby('genre')['total_sales'].describe()"
   ]
  },
  {
   "cell_type": "markdown",
   "id": "250e68ef-aed5-4f54-bad3-d0e71963bf82",
   "metadata": {},
   "source": [
    "Исходя из графиков выше мы можем сделать вывод о том, что самый популярный жанр с точки зрения количества выпсукаемых игр - это Action. Более трети игр в нашей выборке относятся к данному жанру.\n",
    "\n",
    "При этом, с точки зрения количества проданных копий самый прибыльный жанр - это Shooter. Игры данного жанра в среднем расходятся тиражом в более миллиона копий.\n",
    "\n",
    "Если обратить внимание на сверхприбыльные игры, то тут также лидирует жанр Action - максимальный тираж одной из игр составил более 21 миллиона копий. Второе место делят жанры Shooter и Role-Playing - около 14.6 миллионов копий. Третье место за жанром Platform - почти 10 миллионов копий."
   ]
  },
  {
   "cell_type": "markdown",
   "id": "b832a848-e5cb-4da7-8902-b8852cb75dd0",
   "metadata": {},
   "source": [
    "## Составление портрета пользователя для каждого региона"
   ]
  },
  {
   "cell_type": "markdown",
   "id": "580df194-4755-46b0-8c0f-d1ef4243f4b2",
   "metadata": {},
   "source": [
    "Изучим самые популярные платформы и жанры для пользователей из каждого региона, а также влияние рейтинга ESRB на продажи в каждом регионе."
   ]
  },
  {
   "cell_type": "markdown",
   "id": "21898636-8c93-4e7a-98ba-dd8adb00d7a6",
   "metadata": {},
   "source": [
    "### Северная Америка"
   ]
  },
  {
   "cell_type": "code",
   "execution_count": 44,
   "id": "a80e9cde-d62a-4a58-89ae-ed28de9e990e",
   "metadata": {},
   "outputs": [
    {
     "data": {
      "text/html": [
       "<div>\n",
       "<style scoped>\n",
       "    .dataframe tbody tr th:only-of-type {\n",
       "        vertical-align: middle;\n",
       "    }\n",
       "\n",
       "    .dataframe tbody tr th {\n",
       "        vertical-align: top;\n",
       "    }\n",
       "\n",
       "    .dataframe thead th {\n",
       "        text-align: right;\n",
       "    }\n",
       "</style>\n",
       "<table border=\"1\" class=\"dataframe\">\n",
       "  <thead>\n",
       "    <tr style=\"text-align: right;\">\n",
       "      <th></th>\n",
       "      <th>na_sales</th>\n",
       "      <th>%</th>\n",
       "    </tr>\n",
       "    <tr>\n",
       "      <th>platform</th>\n",
       "      <th></th>\n",
       "      <th></th>\n",
       "    </tr>\n",
       "  </thead>\n",
       "  <tbody>\n",
       "    <tr>\n",
       "      <th>X360</th>\n",
       "      <td>140.05</td>\n",
       "      <td>23.695921</td>\n",
       "    </tr>\n",
       "    <tr>\n",
       "      <th>PS4</th>\n",
       "      <td>108.74</td>\n",
       "      <td>18.398389</td>\n",
       "    </tr>\n",
       "    <tr>\n",
       "      <th>PS3</th>\n",
       "      <td>103.38</td>\n",
       "      <td>17.491498</td>\n",
       "    </tr>\n",
       "    <tr>\n",
       "      <th>XOne</th>\n",
       "      <td>93.12</td>\n",
       "      <td>15.755545</td>\n",
       "    </tr>\n",
       "    <tr>\n",
       "      <th>3DS</th>\n",
       "      <td>55.31</td>\n",
       "      <td>9.358239</td>\n",
       "    </tr>\n",
       "    <tr>\n",
       "      <th>WiiU</th>\n",
       "      <td>38.10</td>\n",
       "      <td>6.446373</td>\n",
       "    </tr>\n",
       "    <tr>\n",
       "      <th>PC</th>\n",
       "      <td>19.18</td>\n",
       "      <td>3.245182</td>\n",
       "    </tr>\n",
       "    <tr>\n",
       "      <th>Wii</th>\n",
       "      <td>17.45</td>\n",
       "      <td>2.952473</td>\n",
       "    </tr>\n",
       "    <tr>\n",
       "      <th>PSV</th>\n",
       "      <td>10.98</td>\n",
       "      <td>1.857774</td>\n",
       "    </tr>\n",
       "    <tr>\n",
       "      <th>DS</th>\n",
       "      <td>4.59</td>\n",
       "      <td>0.776610</td>\n",
       "    </tr>\n",
       "    <tr>\n",
       "      <th>PSP</th>\n",
       "      <td>0.13</td>\n",
       "      <td>0.021995</td>\n",
       "    </tr>\n",
       "  </tbody>\n",
       "</table>\n",
       "</div>"
      ],
      "text/plain": [
       "          na_sales          %\n",
       "platform                     \n",
       "X360        140.05  23.695921\n",
       "PS4         108.74  18.398389\n",
       "PS3         103.38  17.491498\n",
       "XOne         93.12  15.755545\n",
       "3DS          55.31   9.358239\n",
       "WiiU         38.10   6.446373\n",
       "PC           19.18   3.245182\n",
       "Wii          17.45   2.952473\n",
       "PSV          10.98   1.857774\n",
       "DS            4.59   0.776610\n",
       "PSP           0.13   0.021995"
      ]
     },
     "execution_count": 44,
     "metadata": {},
     "output_type": "execute_result"
    }
   ],
   "source": [
    "na_sales_by_platforms = relevant_data.pivot_table(index='platform', values='na_sales', aggfunc='sum')\n",
    "na_sales_by_platforms.columns = ['na_sales']\n",
    "na_sales_by_platforms['%'] = na_sales_by_platforms['na_sales'] / na_sales_by_platforms['na_sales'].sum() * 100\n",
    "na_sales_by_platforms.sort_values(by='%', ascending=False)"
   ]
  },
  {
   "cell_type": "markdown",
   "id": "650d3013-634a-4d96-80d7-26106c32cb23",
   "metadata": {},
   "source": [
    "Наиболее популярными платформами в Северной Америке являются X360 (24% проданных копий приходится на эту платформу), PS4 (18%) и PS3 (17%)."
   ]
  },
  {
   "cell_type": "code",
   "execution_count": 45,
   "id": "e15c5d1e-69c5-4c24-bf69-673463f8d88b",
   "metadata": {},
   "outputs": [
    {
     "data": {
      "text/html": [
       "<div>\n",
       "<style scoped>\n",
       "    .dataframe tbody tr th:only-of-type {\n",
       "        vertical-align: middle;\n",
       "    }\n",
       "\n",
       "    .dataframe tbody tr th {\n",
       "        vertical-align: top;\n",
       "    }\n",
       "\n",
       "    .dataframe thead th {\n",
       "        text-align: right;\n",
       "    }\n",
       "</style>\n",
       "<table border=\"1\" class=\"dataframe\">\n",
       "  <thead>\n",
       "    <tr style=\"text-align: right;\">\n",
       "      <th></th>\n",
       "      <th>na_sales</th>\n",
       "      <th>%</th>\n",
       "    </tr>\n",
       "    <tr>\n",
       "      <th>genre</th>\n",
       "      <th></th>\n",
       "      <th></th>\n",
       "    </tr>\n",
       "  </thead>\n",
       "  <tbody>\n",
       "    <tr>\n",
       "      <th>Action</th>\n",
       "      <td>177.90</td>\n",
       "      <td>30.099995</td>\n",
       "    </tr>\n",
       "    <tr>\n",
       "      <th>Shooter</th>\n",
       "      <td>144.77</td>\n",
       "      <td>24.494527</td>\n",
       "    </tr>\n",
       "    <tr>\n",
       "      <th>Sports</th>\n",
       "      <td>81.53</td>\n",
       "      <td>13.794562</td>\n",
       "    </tr>\n",
       "    <tr>\n",
       "      <th>Role-Playing</th>\n",
       "      <td>64.00</td>\n",
       "      <td>10.828554</td>\n",
       "    </tr>\n",
       "    <tr>\n",
       "      <th>Misc</th>\n",
       "      <td>38.19</td>\n",
       "      <td>6.461601</td>\n",
       "    </tr>\n",
       "    <tr>\n",
       "      <th>Platform</th>\n",
       "      <td>25.38</td>\n",
       "      <td>4.294198</td>\n",
       "    </tr>\n",
       "    <tr>\n",
       "      <th>Fighting</th>\n",
       "      <td>19.79</td>\n",
       "      <td>3.348392</td>\n",
       "    </tr>\n",
       "    <tr>\n",
       "      <th>Racing</th>\n",
       "      <td>17.22</td>\n",
       "      <td>2.913558</td>\n",
       "    </tr>\n",
       "    <tr>\n",
       "      <th>Adventure</th>\n",
       "      <td>8.92</td>\n",
       "      <td>1.509230</td>\n",
       "    </tr>\n",
       "    <tr>\n",
       "      <th>Simulation</th>\n",
       "      <td>7.97</td>\n",
       "      <td>1.348493</td>\n",
       "    </tr>\n",
       "    <tr>\n",
       "      <th>Strategy</th>\n",
       "      <td>4.23</td>\n",
       "      <td>0.715700</td>\n",
       "    </tr>\n",
       "    <tr>\n",
       "      <th>Puzzle</th>\n",
       "      <td>1.13</td>\n",
       "      <td>0.191192</td>\n",
       "    </tr>\n",
       "  </tbody>\n",
       "</table>\n",
       "</div>"
      ],
      "text/plain": [
       "              na_sales          %\n",
       "genre                            \n",
       "Action          177.90  30.099995\n",
       "Shooter         144.77  24.494527\n",
       "Sports           81.53  13.794562\n",
       "Role-Playing     64.00  10.828554\n",
       "Misc             38.19   6.461601\n",
       "Platform         25.38   4.294198\n",
       "Fighting         19.79   3.348392\n",
       "Racing           17.22   2.913558\n",
       "Adventure         8.92   1.509230\n",
       "Simulation        7.97   1.348493\n",
       "Strategy          4.23   0.715700\n",
       "Puzzle            1.13   0.191192"
      ]
     },
     "execution_count": 45,
     "metadata": {},
     "output_type": "execute_result"
    }
   ],
   "source": [
    "na_sales_by_genre = relevant_data.pivot_table(index='genre', values='na_sales', aggfunc='sum')\n",
    "na_sales_by_genre.columns = ['na_sales']\n",
    "na_sales_by_genre['%'] = na_sales_by_genre['na_sales'] / na_sales_by_genre['na_sales'].sum() * 100\n",
    "na_sales_by_genre.sort_values(by='%', ascending=False)"
   ]
  },
  {
   "cell_type": "markdown",
   "id": "7be31c14-d2f2-40f2-a0b3-952946090873",
   "metadata": {},
   "source": [
    "Больше всего копий игр было продано в жанрах Action (30%) и Shooter (24%)."
   ]
  },
  {
   "cell_type": "code",
   "execution_count": 46,
   "id": "ad5f48e9-682e-4d6d-86ea-477a6bd83dad",
   "metadata": {},
   "outputs": [
    {
     "data": {
      "text/html": [
       "<div>\n",
       "<style scoped>\n",
       "    .dataframe tbody tr th:only-of-type {\n",
       "        vertical-align: middle;\n",
       "    }\n",
       "\n",
       "    .dataframe tbody tr th {\n",
       "        vertical-align: top;\n",
       "    }\n",
       "\n",
       "    .dataframe thead th {\n",
       "        text-align: right;\n",
       "    }\n",
       "</style>\n",
       "<table border=\"1\" class=\"dataframe\">\n",
       "  <thead>\n",
       "    <tr style=\"text-align: right;\">\n",
       "      <th></th>\n",
       "      <th>na_sales</th>\n",
       "      <th>%</th>\n",
       "    </tr>\n",
       "    <tr>\n",
       "      <th>rating</th>\n",
       "      <th></th>\n",
       "      <th></th>\n",
       "    </tr>\n",
       "  </thead>\n",
       "  <tbody>\n",
       "    <tr>\n",
       "      <th>M</th>\n",
       "      <td>231.63</td>\n",
       "      <td>47.492414</td>\n",
       "    </tr>\n",
       "    <tr>\n",
       "      <th>E</th>\n",
       "      <td>114.37</td>\n",
       "      <td>23.449930</td>\n",
       "    </tr>\n",
       "    <tr>\n",
       "      <th>E10+</th>\n",
       "      <td>75.70</td>\n",
       "      <td>15.521201</td>\n",
       "    </tr>\n",
       "    <tr>\n",
       "      <th>T</th>\n",
       "      <td>66.02</td>\n",
       "      <td>13.536455</td>\n",
       "    </tr>\n",
       "  </tbody>\n",
       "</table>\n",
       "</div>"
      ],
      "text/plain": [
       "        na_sales          %\n",
       "rating                     \n",
       "M         231.63  47.492414\n",
       "E         114.37  23.449930\n",
       "E10+       75.70  15.521201\n",
       "T          66.02  13.536455"
      ]
     },
     "execution_count": 46,
     "metadata": {},
     "output_type": "execute_result"
    }
   ],
   "source": [
    "na_sales_by_rating = relevant_data.pivot_table(index='rating', values='na_sales', aggfunc='sum')\n",
    "na_sales_by_rating.columns = ['na_sales']\n",
    "na_sales_by_rating['%'] = na_sales_by_rating['na_sales'] / na_sales_by_rating['na_sales'].sum() * 100\n",
    "na_sales_by_rating.sort_values(by='%', ascending=False)"
   ]
  },
  {
   "cell_type": "markdown",
   "id": "a5c63c8d-2f7a-4978-8e9e-2ecc604a232b",
   "metadata": {},
   "source": [
    "Абсолютное большинство проданных копий принадлежит к возрастному рейтингу \"Для взрослых\" - 47%."
   ]
  },
  {
   "cell_type": "markdown",
   "id": "cd17abbb-e1a1-4ce2-80d9-ea2d6e07a824",
   "metadata": {},
   "source": [
    "#### Портрет пользователя"
   ]
  },
  {
   "cell_type": "markdown",
   "id": "7bd9eacf-490d-48ef-91eb-9d90b8f49717",
   "metadata": {},
   "source": [
    "Пользователь из Новой Америки выбирает игры для таких платформ, как XOne, PS4 и PS3. Он/она предпочитает игры в жанре Action и Shooter. Наиболее часто он/она приобретатет игры с возрастным рейтингом \"Для взрослых\", что типично для предпочитаемых им/ей жанров."
   ]
  },
  {
   "cell_type": "markdown",
   "id": "8f84df00-61e7-493c-9017-accf4d5a5036",
   "metadata": {},
   "source": [
    "### Европа"
   ]
  },
  {
   "cell_type": "code",
   "execution_count": 47,
   "id": "680c1f7c-138c-48f2-a462-693805435af4",
   "metadata": {},
   "outputs": [
    {
     "data": {
      "text/html": [
       "<div>\n",
       "<style scoped>\n",
       "    .dataframe tbody tr th:only-of-type {\n",
       "        vertical-align: middle;\n",
       "    }\n",
       "\n",
       "    .dataframe tbody tr th {\n",
       "        vertical-align: top;\n",
       "    }\n",
       "\n",
       "    .dataframe thead th {\n",
       "        text-align: right;\n",
       "    }\n",
       "</style>\n",
       "<table border=\"1\" class=\"dataframe\">\n",
       "  <thead>\n",
       "    <tr style=\"text-align: right;\">\n",
       "      <th></th>\n",
       "      <th>eu_sales</th>\n",
       "      <th>%</th>\n",
       "    </tr>\n",
       "    <tr>\n",
       "      <th>platform</th>\n",
       "      <th></th>\n",
       "      <th></th>\n",
       "    </tr>\n",
       "  </thead>\n",
       "  <tbody>\n",
       "    <tr>\n",
       "      <th>PS4</th>\n",
       "      <td>141.09</td>\n",
       "      <td>27.824561</td>\n",
       "    </tr>\n",
       "    <tr>\n",
       "      <th>PS3</th>\n",
       "      <td>106.86</td>\n",
       "      <td>21.074013</td>\n",
       "    </tr>\n",
       "    <tr>\n",
       "      <th>X360</th>\n",
       "      <td>74.52</td>\n",
       "      <td>14.696196</td>\n",
       "    </tr>\n",
       "    <tr>\n",
       "      <th>XOne</th>\n",
       "      <td>51.59</td>\n",
       "      <td>10.174138</td>\n",
       "    </tr>\n",
       "    <tr>\n",
       "      <th>3DS</th>\n",
       "      <td>42.64</td>\n",
       "      <td>8.409095</td>\n",
       "    </tr>\n",
       "    <tr>\n",
       "      <th>PC</th>\n",
       "      <td>38.01</td>\n",
       "      <td>7.496006</td>\n",
       "    </tr>\n",
       "    <tr>\n",
       "      <th>WiiU</th>\n",
       "      <td>25.13</td>\n",
       "      <td>4.955923</td>\n",
       "    </tr>\n",
       "    <tr>\n",
       "      <th>Wii</th>\n",
       "      <td>11.92</td>\n",
       "      <td>2.350760</td>\n",
       "    </tr>\n",
       "    <tr>\n",
       "      <th>PSV</th>\n",
       "      <td>11.36</td>\n",
       "      <td>2.240322</td>\n",
       "    </tr>\n",
       "    <tr>\n",
       "      <th>DS</th>\n",
       "      <td>3.53</td>\n",
       "      <td>0.696156</td>\n",
       "    </tr>\n",
       "    <tr>\n",
       "      <th>PSP</th>\n",
       "      <td>0.42</td>\n",
       "      <td>0.082829</td>\n",
       "    </tr>\n",
       "  </tbody>\n",
       "</table>\n",
       "</div>"
      ],
      "text/plain": [
       "          eu_sales          %\n",
       "platform                     \n",
       "PS4         141.09  27.824561\n",
       "PS3         106.86  21.074013\n",
       "X360         74.52  14.696196\n",
       "XOne         51.59  10.174138\n",
       "3DS          42.64   8.409095\n",
       "PC           38.01   7.496006\n",
       "WiiU         25.13   4.955923\n",
       "Wii          11.92   2.350760\n",
       "PSV          11.36   2.240322\n",
       "DS            3.53   0.696156\n",
       "PSP           0.42   0.082829"
      ]
     },
     "execution_count": 47,
     "metadata": {},
     "output_type": "execute_result"
    }
   ],
   "source": [
    "eu_sales_by_platforms = relevant_data.pivot_table(index='platform', values='eu_sales', aggfunc='sum')\n",
    "eu_sales_by_platforms.columns = ['eu_sales']\n",
    "eu_sales_by_platforms['%'] = eu_sales_by_platforms['eu_sales'] / eu_sales_by_platforms['eu_sales'].sum() * 100\n",
    "eu_sales_by_platforms.sort_values(by='%', ascending=False)"
   ]
  },
  {
   "cell_type": "markdown",
   "id": "193b3670-4e41-40fe-88e8-ddb31585587a",
   "metadata": {},
   "source": [
    "В Европе наибольшей популярностью пользуются PS4 (28% проданных копий приходится на эту платформу) и PS3 (21%)."
   ]
  },
  {
   "cell_type": "code",
   "execution_count": 48,
   "id": "d9dc9bcf-8636-4bc9-b5f1-939594b834ed",
   "metadata": {},
   "outputs": [
    {
     "data": {
      "text/html": [
       "<div>\n",
       "<style scoped>\n",
       "    .dataframe tbody tr th:only-of-type {\n",
       "        vertical-align: middle;\n",
       "    }\n",
       "\n",
       "    .dataframe tbody tr th {\n",
       "        vertical-align: top;\n",
       "    }\n",
       "\n",
       "    .dataframe thead th {\n",
       "        text-align: right;\n",
       "    }\n",
       "</style>\n",
       "<table border=\"1\" class=\"dataframe\">\n",
       "  <thead>\n",
       "    <tr style=\"text-align: right;\">\n",
       "      <th></th>\n",
       "      <th>eu_sales</th>\n",
       "      <th>%</th>\n",
       "    </tr>\n",
       "    <tr>\n",
       "      <th>genre</th>\n",
       "      <th></th>\n",
       "      <th></th>\n",
       "    </tr>\n",
       "  </thead>\n",
       "  <tbody>\n",
       "    <tr>\n",
       "      <th>Action</th>\n",
       "      <td>159.59</td>\n",
       "      <td>31.472972</td>\n",
       "    </tr>\n",
       "    <tr>\n",
       "      <th>Shooter</th>\n",
       "      <td>113.47</td>\n",
       "      <td>22.377581</td>\n",
       "    </tr>\n",
       "    <tr>\n",
       "      <th>Sports</th>\n",
       "      <td>69.09</td>\n",
       "      <td>13.625338</td>\n",
       "    </tr>\n",
       "    <tr>\n",
       "      <th>Role-Playing</th>\n",
       "      <td>48.53</td>\n",
       "      <td>9.570671</td>\n",
       "    </tr>\n",
       "    <tr>\n",
       "      <th>Racing</th>\n",
       "      <td>27.29</td>\n",
       "      <td>5.381900</td>\n",
       "    </tr>\n",
       "    <tr>\n",
       "      <th>Misc</th>\n",
       "      <td>26.32</td>\n",
       "      <td>5.190605</td>\n",
       "    </tr>\n",
       "    <tr>\n",
       "      <th>Platform</th>\n",
       "      <td>21.41</td>\n",
       "      <td>4.222297</td>\n",
       "    </tr>\n",
       "    <tr>\n",
       "      <th>Simulation</th>\n",
       "      <td>14.55</td>\n",
       "      <td>2.869426</td>\n",
       "    </tr>\n",
       "    <tr>\n",
       "      <th>Fighting</th>\n",
       "      <td>10.79</td>\n",
       "      <td>2.127911</td>\n",
       "    </tr>\n",
       "    <tr>\n",
       "      <th>Adventure</th>\n",
       "      <td>9.46</td>\n",
       "      <td>1.865620</td>\n",
       "    </tr>\n",
       "    <tr>\n",
       "      <th>Strategy</th>\n",
       "      <td>5.17</td>\n",
       "      <td>1.019583</td>\n",
       "    </tr>\n",
       "    <tr>\n",
       "      <th>Puzzle</th>\n",
       "      <td>1.40</td>\n",
       "      <td>0.276096</td>\n",
       "    </tr>\n",
       "  </tbody>\n",
       "</table>\n",
       "</div>"
      ],
      "text/plain": [
       "              eu_sales          %\n",
       "genre                            \n",
       "Action          159.59  31.472972\n",
       "Shooter         113.47  22.377581\n",
       "Sports           69.09  13.625338\n",
       "Role-Playing     48.53   9.570671\n",
       "Racing           27.29   5.381900\n",
       "Misc             26.32   5.190605\n",
       "Platform         21.41   4.222297\n",
       "Simulation       14.55   2.869426\n",
       "Fighting         10.79   2.127911\n",
       "Adventure         9.46   1.865620\n",
       "Strategy          5.17   1.019583\n",
       "Puzzle            1.40   0.276096"
      ]
     },
     "execution_count": 48,
     "metadata": {},
     "output_type": "execute_result"
    }
   ],
   "source": [
    "eu_sales_by_genre = relevant_data.pivot_table(index='genre', values='eu_sales', aggfunc='sum')\n",
    "eu_sales_by_genre.columns = ['eu_sales']\n",
    "eu_sales_by_genre['%'] = eu_sales_by_genre['eu_sales'] / eu_sales_by_genre['eu_sales'].sum() * 100\n",
    "eu_sales_by_genre.sort_values(by='%', ascending=False)"
   ]
  },
  {
   "cell_type": "markdown",
   "id": "72e87713-8e7f-4840-9b5a-bc7f0c7bdd52",
   "metadata": {},
   "source": [
    "Наиболее популярными жанрами по количеству проданных копий являются Action (31%) и Shooter (22%)."
   ]
  },
  {
   "cell_type": "code",
   "execution_count": 49,
   "id": "92300a06-f325-4ddf-8499-39dbbd3601ba",
   "metadata": {},
   "outputs": [
    {
     "data": {
      "text/html": [
       "<div>\n",
       "<style scoped>\n",
       "    .dataframe tbody tr th:only-of-type {\n",
       "        vertical-align: middle;\n",
       "    }\n",
       "\n",
       "    .dataframe tbody tr th {\n",
       "        vertical-align: top;\n",
       "    }\n",
       "\n",
       "    .dataframe thead th {\n",
       "        text-align: right;\n",
       "    }\n",
       "</style>\n",
       "<table border=\"1\" class=\"dataframe\">\n",
       "  <thead>\n",
       "    <tr style=\"text-align: right;\">\n",
       "      <th></th>\n",
       "      <th>eu_sales</th>\n",
       "      <th>%</th>\n",
       "    </tr>\n",
       "    <tr>\n",
       "      <th>rating</th>\n",
       "      <th></th>\n",
       "      <th></th>\n",
       "    </tr>\n",
       "  </thead>\n",
       "  <tbody>\n",
       "    <tr>\n",
       "      <th>M</th>\n",
       "      <td>194.21</td>\n",
       "      <td>46.733402</td>\n",
       "    </tr>\n",
       "    <tr>\n",
       "      <th>E</th>\n",
       "      <td>113.03</td>\n",
       "      <td>27.198787</td>\n",
       "    </tr>\n",
       "    <tr>\n",
       "      <th>E10+</th>\n",
       "      <td>55.37</td>\n",
       "      <td>13.323868</td>\n",
       "    </tr>\n",
       "    <tr>\n",
       "      <th>T</th>\n",
       "      <td>52.96</td>\n",
       "      <td>12.743942</td>\n",
       "    </tr>\n",
       "  </tbody>\n",
       "</table>\n",
       "</div>"
      ],
      "text/plain": [
       "        eu_sales          %\n",
       "rating                     \n",
       "M         194.21  46.733402\n",
       "E         113.03  27.198787\n",
       "E10+       55.37  13.323868\n",
       "T          52.96  12.743942"
      ]
     },
     "execution_count": 49,
     "metadata": {},
     "output_type": "execute_result"
    }
   ],
   "source": [
    "eu_sales_by_rating = relevant_data.pivot_table(index='rating', values='eu_sales', aggfunc='sum')\n",
    "eu_sales_by_rating.columns = ['eu_sales']\n",
    "eu_sales_by_rating['%'] = eu_sales_by_rating['eu_sales'] / eu_sales_by_rating['eu_sales'].sum() * 100\n",
    "eu_sales_by_rating.sort_values(by='%', ascending=False)"
   ]
  },
  {
   "cell_type": "markdown",
   "id": "8c91b421-ae62-4ba7-a3df-2c240375dd7a",
   "metadata": {},
   "source": [
    "Больше всего копий было продано с возрастным рейтингом \"Для взрослых\" - 47%."
   ]
  },
  {
   "cell_type": "markdown",
   "id": "271ba49f-1de5-419d-b71f-e255f7b24dab",
   "metadata": {},
   "source": [
    "#### Портрет пользователя"
   ]
  },
  {
   "cell_type": "markdown",
   "id": "c3466fb6-928a-4674-93fb-591dfcd537e1",
   "metadata": {},
   "source": [
    "Европейский пользователь предпочитает такие платформы, как PS4 и PS3. Чаще всего он/она выбирает игры в жанре Action и Shooter. Возрастной рейтинг приобритаемых им/ей игр - зачастую \"Для взрослых\", что типично для выбираемых им/ей жанров."
   ]
  },
  {
   "cell_type": "markdown",
   "id": "3953f147-6dfa-483e-b2a4-b7069169482e",
   "metadata": {},
   "source": [
    "### Япония"
   ]
  },
  {
   "cell_type": "code",
   "execution_count": 50,
   "id": "2a9fd1e9-4035-4a30-ab6f-27eefea0572f",
   "metadata": {},
   "outputs": [
    {
     "data": {
      "text/html": [
       "<div>\n",
       "<style scoped>\n",
       "    .dataframe tbody tr th:only-of-type {\n",
       "        vertical-align: middle;\n",
       "    }\n",
       "\n",
       "    .dataframe tbody tr th {\n",
       "        vertical-align: top;\n",
       "    }\n",
       "\n",
       "    .dataframe thead th {\n",
       "        text-align: right;\n",
       "    }\n",
       "</style>\n",
       "<table border=\"1\" class=\"dataframe\">\n",
       "  <thead>\n",
       "    <tr style=\"text-align: right;\">\n",
       "      <th></th>\n",
       "      <th>jp_sales</th>\n",
       "      <th>%</th>\n",
       "    </tr>\n",
       "    <tr>\n",
       "      <th>platform</th>\n",
       "      <th></th>\n",
       "      <th></th>\n",
       "    </tr>\n",
       "  </thead>\n",
       "  <tbody>\n",
       "    <tr>\n",
       "      <th>3DS</th>\n",
       "      <td>87.79</td>\n",
       "      <td>45.586250</td>\n",
       "    </tr>\n",
       "    <tr>\n",
       "      <th>PS3</th>\n",
       "      <td>35.29</td>\n",
       "      <td>18.324852</td>\n",
       "    </tr>\n",
       "    <tr>\n",
       "      <th>PSV</th>\n",
       "      <td>21.04</td>\n",
       "      <td>10.925330</td>\n",
       "    </tr>\n",
       "    <tr>\n",
       "      <th>PS4</th>\n",
       "      <td>15.96</td>\n",
       "      <td>8.287465</td>\n",
       "    </tr>\n",
       "    <tr>\n",
       "      <th>WiiU</th>\n",
       "      <td>13.01</td>\n",
       "      <td>6.755634</td>\n",
       "    </tr>\n",
       "    <tr>\n",
       "      <th>PSP</th>\n",
       "      <td>10.47</td>\n",
       "      <td>5.436702</td>\n",
       "    </tr>\n",
       "    <tr>\n",
       "      <th>DS</th>\n",
       "      <td>3.72</td>\n",
       "      <td>1.931665</td>\n",
       "    </tr>\n",
       "    <tr>\n",
       "      <th>Wii</th>\n",
       "      <td>3.39</td>\n",
       "      <td>1.760307</td>\n",
       "    </tr>\n",
       "    <tr>\n",
       "      <th>X360</th>\n",
       "      <td>1.57</td>\n",
       "      <td>0.815246</td>\n",
       "    </tr>\n",
       "    <tr>\n",
       "      <th>XOne</th>\n",
       "      <td>0.34</td>\n",
       "      <td>0.176550</td>\n",
       "    </tr>\n",
       "    <tr>\n",
       "      <th>PC</th>\n",
       "      <td>0.00</td>\n",
       "      <td>0.000000</td>\n",
       "    </tr>\n",
       "  </tbody>\n",
       "</table>\n",
       "</div>"
      ],
      "text/plain": [
       "          jp_sales          %\n",
       "platform                     \n",
       "3DS          87.79  45.586250\n",
       "PS3          35.29  18.324852\n",
       "PSV          21.04  10.925330\n",
       "PS4          15.96   8.287465\n",
       "WiiU         13.01   6.755634\n",
       "PSP          10.47   5.436702\n",
       "DS            3.72   1.931665\n",
       "Wii           3.39   1.760307\n",
       "X360          1.57   0.815246\n",
       "XOne          0.34   0.176550\n",
       "PC            0.00   0.000000"
      ]
     },
     "execution_count": 50,
     "metadata": {},
     "output_type": "execute_result"
    }
   ],
   "source": [
    "jp_sales_by_platforms = relevant_data.pivot_table(index='platform', values='jp_sales', aggfunc='sum')\n",
    "jp_sales_by_platforms.columns = ['jp_sales']\n",
    "jp_sales_by_platforms['%'] = jp_sales_by_platforms['jp_sales'] / jp_sales_by_platforms['jp_sales'].sum() * 100\n",
    "jp_sales_by_platforms.sort_values(by='%', ascending=False)"
   ]
  },
  {
   "cell_type": "markdown",
   "id": "a28144a2-93a2-4fa0-9ea2-2282f46597c4",
   "metadata": {},
   "source": [
    "Самая популярная платформа в Японии - 3DS (46% проданных копий приходится на эту платформу)."
   ]
  },
  {
   "cell_type": "code",
   "execution_count": 51,
   "id": "5551b177-d498-4184-9c4c-26bec9b39de3",
   "metadata": {},
   "outputs": [
    {
     "data": {
      "text/html": [
       "<div>\n",
       "<style scoped>\n",
       "    .dataframe tbody tr th:only-of-type {\n",
       "        vertical-align: middle;\n",
       "    }\n",
       "\n",
       "    .dataframe tbody tr th {\n",
       "        vertical-align: top;\n",
       "    }\n",
       "\n",
       "    .dataframe thead th {\n",
       "        text-align: right;\n",
       "    }\n",
       "</style>\n",
       "<table border=\"1\" class=\"dataframe\">\n",
       "  <thead>\n",
       "    <tr style=\"text-align: right;\">\n",
       "      <th></th>\n",
       "      <th>jp_sales</th>\n",
       "      <th>%</th>\n",
       "    </tr>\n",
       "    <tr>\n",
       "      <th>genre</th>\n",
       "      <th></th>\n",
       "      <th></th>\n",
       "    </tr>\n",
       "  </thead>\n",
       "  <tbody>\n",
       "    <tr>\n",
       "      <th>Role-Playing</th>\n",
       "      <td>65.44</td>\n",
       "      <td>33.980683</td>\n",
       "    </tr>\n",
       "    <tr>\n",
       "      <th>Action</th>\n",
       "      <td>52.80</td>\n",
       "      <td>27.417177</td>\n",
       "    </tr>\n",
       "    <tr>\n",
       "      <th>Misc</th>\n",
       "      <td>12.86</td>\n",
       "      <td>6.677744</td>\n",
       "    </tr>\n",
       "    <tr>\n",
       "      <th>Simulation</th>\n",
       "      <td>10.41</td>\n",
       "      <td>5.405546</td>\n",
       "    </tr>\n",
       "    <tr>\n",
       "      <th>Fighting</th>\n",
       "      <td>9.44</td>\n",
       "      <td>4.901859</td>\n",
       "    </tr>\n",
       "    <tr>\n",
       "      <th>Shooter</th>\n",
       "      <td>9.23</td>\n",
       "      <td>4.792813</td>\n",
       "    </tr>\n",
       "    <tr>\n",
       "      <th>Platform</th>\n",
       "      <td>8.63</td>\n",
       "      <td>4.481255</td>\n",
       "    </tr>\n",
       "    <tr>\n",
       "      <th>Adventure</th>\n",
       "      <td>8.24</td>\n",
       "      <td>4.278741</td>\n",
       "    </tr>\n",
       "    <tr>\n",
       "      <th>Sports</th>\n",
       "      <td>8.01</td>\n",
       "      <td>4.159310</td>\n",
       "    </tr>\n",
       "    <tr>\n",
       "      <th>Strategy</th>\n",
       "      <td>2.88</td>\n",
       "      <td>1.495482</td>\n",
       "    </tr>\n",
       "    <tr>\n",
       "      <th>Racing</th>\n",
       "      <td>2.50</td>\n",
       "      <td>1.298162</td>\n",
       "    </tr>\n",
       "    <tr>\n",
       "      <th>Puzzle</th>\n",
       "      <td>2.14</td>\n",
       "      <td>1.111227</td>\n",
       "    </tr>\n",
       "  </tbody>\n",
       "</table>\n",
       "</div>"
      ],
      "text/plain": [
       "              jp_sales          %\n",
       "genre                            \n",
       "Role-Playing     65.44  33.980683\n",
       "Action           52.80  27.417177\n",
       "Misc             12.86   6.677744\n",
       "Simulation       10.41   5.405546\n",
       "Fighting          9.44   4.901859\n",
       "Shooter           9.23   4.792813\n",
       "Platform          8.63   4.481255\n",
       "Adventure         8.24   4.278741\n",
       "Sports            8.01   4.159310\n",
       "Strategy          2.88   1.495482\n",
       "Racing            2.50   1.298162\n",
       "Puzzle            2.14   1.111227"
      ]
     },
     "execution_count": 51,
     "metadata": {},
     "output_type": "execute_result"
    }
   ],
   "source": [
    "jp_sales_by_genre = relevant_data.pivot_table(index='genre', values='jp_sales', aggfunc='sum')\n",
    "jp_sales_by_genre.columns = ['jp_sales']\n",
    "jp_sales_by_genre['%'] = jp_sales_by_genre['jp_sales'] / jp_sales_by_genre['jp_sales'].sum() * 100\n",
    "jp_sales_by_genre.sort_values(by='%', ascending=False)"
   ]
  },
  {
   "cell_type": "markdown",
   "id": "4453cd28-82ed-4856-aab4-705ad562f20e",
   "metadata": {},
   "source": [
    "Больше всего копий было продано в жанрах Role-Playing (34%) и Action (27%)."
   ]
  },
  {
   "cell_type": "code",
   "execution_count": 52,
   "id": "f685e338-22f7-4420-bfa9-1b074e576777",
   "metadata": {},
   "outputs": [
    {
     "data": {
      "text/html": [
       "<div>\n",
       "<style scoped>\n",
       "    .dataframe tbody tr th:only-of-type {\n",
       "        vertical-align: middle;\n",
       "    }\n",
       "\n",
       "    .dataframe tbody tr th {\n",
       "        vertical-align: top;\n",
       "    }\n",
       "\n",
       "    .dataframe thead th {\n",
       "        text-align: right;\n",
       "    }\n",
       "</style>\n",
       "<table border=\"1\" class=\"dataframe\">\n",
       "  <thead>\n",
       "    <tr style=\"text-align: right;\">\n",
       "      <th></th>\n",
       "      <th>jp_sales</th>\n",
       "      <th>%</th>\n",
       "    </tr>\n",
       "    <tr>\n",
       "      <th>rating</th>\n",
       "      <th></th>\n",
       "      <th></th>\n",
       "    </tr>\n",
       "  </thead>\n",
       "  <tbody>\n",
       "    <tr>\n",
       "      <th>E</th>\n",
       "      <td>28.33</td>\n",
       "      <td>33.830905</td>\n",
       "    </tr>\n",
       "    <tr>\n",
       "      <th>T</th>\n",
       "      <td>26.02</td>\n",
       "      <td>31.072367</td>\n",
       "    </tr>\n",
       "    <tr>\n",
       "      <th>M</th>\n",
       "      <td>21.20</td>\n",
       "      <td>25.316456</td>\n",
       "    </tr>\n",
       "    <tr>\n",
       "      <th>E10+</th>\n",
       "      <td>8.19</td>\n",
       "      <td>9.780272</td>\n",
       "    </tr>\n",
       "  </tbody>\n",
       "</table>\n",
       "</div>"
      ],
      "text/plain": [
       "        jp_sales          %\n",
       "rating                     \n",
       "E          28.33  33.830905\n",
       "T          26.02  31.072367\n",
       "M          21.20  25.316456\n",
       "E10+        8.19   9.780272"
      ]
     },
     "execution_count": 52,
     "metadata": {},
     "output_type": "execute_result"
    }
   ],
   "source": [
    "jp_sales_by_rating = relevant_data.pivot_table(index='rating', values='jp_sales', aggfunc='sum')\n",
    "jp_sales_by_rating.columns = ['jp_sales']\n",
    "jp_sales_by_rating['%'] = jp_sales_by_rating['jp_sales'] / jp_sales_by_rating['jp_sales'].sum() * 100\n",
    "jp_sales_by_rating.sort_values(by='%', ascending=False)"
   ]
  },
  {
   "cell_type": "markdown",
   "id": "bc5ee7a9-343e-42af-a70b-e852006b970e",
   "metadata": {},
   "source": [
    "Распределение проданных копий по возрастному рейтингу практически равномерное - это связано с культурными особенностями Японии, для которой стандраты американской ассоциации ESRB могут не подходить."
   ]
  },
  {
   "cell_type": "markdown",
   "id": "7eb4e65c-16d0-4c01-9cdf-cecf4e02e889",
   "metadata": {},
   "source": [
    "#### Портрет пользователя"
   ]
  },
  {
   "cell_type": "markdown",
   "id": "be1af7e9-f0ae-4cb1-9304-1891dfa2f308",
   "metadata": {},
   "source": [
    "Японский пользователь приобретает игры для DS3. Он/она выбирает игры в жанре Role-Playing и Action. Возрастной рейтинг ESRB не совсем отражает его/ее предпочтения в играх."
   ]
  },
  {
   "cell_type": "markdown",
   "id": "e5cc3b38-8ef4-47c1-849d-27ed8a47afa3",
   "metadata": {},
   "source": [
    "## Статистический анализ данных"
   ]
  },
  {
   "cell_type": "markdown",
   "id": "6931f0c8-143a-4633-ae49-80c68f6d3141",
   "metadata": {},
   "source": [
    "Проверим предоставленные бизнесом гипотезы.\n",
    "\n",
    "Для проверки гипотез выберем уровень статистической значимости 5%."
   ]
  },
  {
   "cell_type": "code",
   "execution_count": 53,
   "id": "c9fa862e-14c0-45bc-85ac-b53e305d3c57",
   "metadata": {},
   "outputs": [],
   "source": [
    "alpha = 0.05"
   ]
  },
  {
   "cell_type": "markdown",
   "id": "96e2f69a-75d7-48c9-b442-d1478d9fdfb8",
   "metadata": {},
   "source": [
    "### Средние пользовательские оценки для платформ XOne и PC одинаковые"
   ]
  },
  {
   "cell_type": "markdown",
   "id": "8c711a17-26b9-4ee8-8b44-5a6dd6a8d405",
   "metadata": {},
   "source": [
    "Данные в нашем распоряжении - это выборки из общих совокупности игр, выпущенных для XOne и PC.\n",
    "\n",
    "Поэтому для проверки данной гипотезы проведем двусторонний t-test среднего двух независимых генеральных совокупностей по взятым из них выборкам. Тест двусторонний, так как в данном случае нам неважно, на какой из платформ оценки выше, нам важно, отличаются ли они.\n",
    "\n",
    "* Нулевая гипотеза: Средние пользовательские оценки для платформ XOne и PC одинаковые.\n",
    "* Альтернативная гипотеза: Средние пользовательские оценки для платформ XOne и PC разные."
   ]
  },
  {
   "cell_type": "code",
   "execution_count": 54,
   "id": "ca41fa2f-a768-4438-b1f7-92d03525acb7",
   "metadata": {},
   "outputs": [
    {
     "name": "stdout",
     "output_type": "stream",
     "text": [
      "p-значение: 0.2798877894147012\n",
      "Не получилось отвергнуть нулевую гипотезу\n"
     ]
    }
   ],
   "source": [
    "xone = relevant_data.query('platform == \"XOne\"')\n",
    "pc = relevant_data.query('platform == \"PC\"')\n",
    "\n",
    "hyp1 = st.ttest_ind(xone['user_score'], pc['user_score'], nan_policy='omit')\n",
    "\n",
    "print('p-значение:', hyp1.pvalue)\n",
    "\n",
    "if hyp1.pvalue < alpha:\n",
    "    print('Отвергаем нулевую гипотезу')\n",
    "else:\n",
    "    print('Не получилось отвергнуть нулевую гипотезу') "
   ]
  },
  {
   "cell_type": "markdown",
   "id": "624d1810-fa40-4da9-aecd-eb05c8baa056",
   "metadata": {},
   "source": [
    "В результате проведения теста не получилось отвергнуть нулевую гипотезу. Следовательно, нет достаточно статистических оснований полагать, что средние пользовательские оценки для для платформ XOne и PC различаются - будем считать их одинаковыми."
   ]
  },
  {
   "cell_type": "markdown",
   "id": "b5b6c0af-2170-4e5f-a3f2-a92a42087a20",
   "metadata": {},
   "source": [
    "### Средние пользовательские оценки для жанров Action и Sports разные"
   ]
  },
  {
   "cell_type": "markdown",
   "id": "14ac3b43-52e5-4efb-a09b-7b7ba59bffd5",
   "metadata": {},
   "source": [
    "По аналогии с предыдущим тестом для проверки данной гипотезы проведем двусторонний t-test среднего двух независимых генеральных совокупностей по взятым из них выборкам.\n",
    "\n",
    "* Нулевая гипотеза: Средние пользовательские оценки для жанров Action и Sports одинаковые.\n",
    "* Альтернативная гипотеза: Средние пользовательские оценки для жанров Action и Sports разные."
   ]
  },
  {
   "cell_type": "code",
   "execution_count": 55,
   "id": "1159d670-ba6f-4712-994b-8bb461746125",
   "metadata": {},
   "outputs": [
    {
     "name": "stdout",
     "output_type": "stream",
     "text": [
      "p-значение: 1.2415942576284502e-32\n",
      "Отвергаем нулевую гипотезу\n"
     ]
    }
   ],
   "source": [
    "action = relevant_data.query('genre == \"Action\"')\n",
    "sports = relevant_data.query('genre == \"Sports\"')\n",
    "\n",
    "hyp2 = st.ttest_ind(action['user_score'], sports['user_score'], nan_policy='omit')\n",
    "\n",
    "print('p-значение:', hyp2.pvalue)\n",
    "\n",
    "if hyp2.pvalue < alpha:\n",
    "    print('Отвергаем нулевую гипотезу')\n",
    "else:\n",
    "    print('Не получилось отвергнуть нулевую гипотезу') "
   ]
  },
  {
   "cell_type": "markdown",
   "id": "f98e4a7f-1294-443f-8cf0-6b82aa36bedc",
   "metadata": {},
   "source": [
    "В результате проведения теста мы отвергаем нулевую гипотезу. Следовательно, есть достаточно статистических оснований полагать, что средние пользовательские оценки для жанров Action и Sports одинаковые."
   ]
  },
  {
   "cell_type": "markdown",
   "id": "a8dafd21-0117-41e9-b977-077fb70a3f11",
   "metadata": {},
   "source": [
    "## Общий вывод"
   ]
  },
  {
   "cell_type": "markdown",
   "id": "943a8d51-03da-4a89-9d89-110efcc6705d",
   "metadata": {},
   "source": [
    "Для проведения исследования был использован датафрейм с данными о более чем 16 тысячах игр, выпущенных за период с 1980 по 2016 год. Это достаточно большая база для исследования данных и формирования закономерностей.\n",
    "\n",
    "В ходе предобработки данных были переименованы столбцы, изменены типы данных, удалены дубликаты, обработаны пропуски и дубликаты, расчитанны суммарные продажи.\n",
    "\n",
    "В процессе исследовательского анализа мы выделили наиболее актуальный период данных для прогнозирования успешности игр в 2017 году (2012-2016) и наиболее перспективные платформы (PS4, XOne, 3DS, PC, WiiU). Также мы выяснили, что типичный тираж игр для наиболее перспективных платформ составляет 1-2 миллиона копий. Изучив взаимосвязь между оценками критиков и пользователей и суммарных продаж, мы пришли к выводу, что оценки не оказывают рещающего влияния на успешность игры с точки зрения количества проданных копий. Проанализировав распределение продаж по жанрам, мы выяснили что в среднем самый прибыльный жанр - это Shooter, а самые сверхприбыльные игры относятся к жанру Action.\n",
    "\n",
    "Далее мы составили портреты пользователей для каждого региона. С точки зрения платформ в Северной Америке предпочитают XOne, PS4 и PS3, в Европе - PS4 и PS3, а в Японии - 3DS. Наиболее популярные жанры среди пользователей в Северной Америке и Европе - Action и Shooter, а в Японии - Role-Playing и Action. Наиболее часто приобретаемые игры в Северной Америке и Европе относятся к возрастному рейтингу \"Для взрослых\".\n",
    "\n",
    "После этого мы приступили к проверке гипотез. В результате проверки гипотез мы выяснили, что пользовательские оценки одинаковые для платформ XOne и PC и для жанров Action и Sports. Соотвественно, мы можем предположить, что пользовательские оценки не зависят от платформы и от жанра.\n",
    "\n",
    "На основании проведенного исследования, можно выделить характеристики игры, которая с большой вероятностью будет успешной в 2017 году:\n",
    "1. Она должна быть доступна на популярной платформе нового поколения (PS4, XOne и/или 3DS)\n",
    "2. Она должна быть в жанре Action (он популярен во всех регионах и имеет потенциал разойтись очень крупным тиражом)\n",
    "3. Она должна иметь возрастной рейтинг \"Для взрослых\" (это наиболее популярный рейтинг в двух самых крупных регионах)"
   ]
  }
 ],
 "metadata": {
  "kernelspec": {
   "display_name": "Python 3 (ipykernel)",
   "language": "python",
   "name": "python3"
  },
  "language_info": {
   "codemirror_mode": {
    "name": "ipython",
    "version": 3
   },
   "file_extension": ".py",
   "mimetype": "text/x-python",
   "name": "python",
   "nbconvert_exporter": "python",
   "pygments_lexer": "ipython3",
   "version": "3.9.5"
  }
 },
 "nbformat": 4,
 "nbformat_minor": 5
}
